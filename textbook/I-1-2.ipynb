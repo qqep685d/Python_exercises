{
 "cells": [
  {
   "cell_type": "markdown",
   "metadata": {},
   "source": [
    "![ゲノム解析のためのPython練習帳](https://github.com/qqep685d/MyIMGs/blob/master/logo/python_exercises.png?raw=true)\n",
    "\n",
    "[目次ページ](https://github.com/qqep685d/Python_exercises)に戻る"
   ]
  },
  {
   "cell_type": "markdown",
   "metadata": {},
   "source": [
    "# I-1-2. 簡単なプログラム Hello world を書いてみる\n",
    "\n",
    "今回は、いくつか実際にプログラムを書いてみましょう。\n",
    "\n",
    "## 難易度\n",
    "- 入門レベル: プログラミングを初めて勉強する \n",
    "\n",
    "## 目標\n",
    "- 文字列を表示するプログラムを書けるようになる\n",
    "- 四則計算のプログラムを書けるようになる\n",
    "\n",
    "## 練習内容\n",
    "1. Exercise 1: [Hello world を表示するプログラム](#ex1)\n",
    "1. Exercise 2: [Hello world を表示するプログラム（失敗例）](#ex2)\n",
    "1. Exercise 3: [数値を表示するプログラム](#ex3)\n",
    "1. Exercise 4: [四則計算プログラム](#ex4)\n",
    "1. Exercise 5: [四則計算の式を文字列として表示するプログラム](#ex5)"
   ]
  },
  {
   "cell_type": "markdown",
   "metadata": {},
   "source": [
    "---\n",
    "## Exercise 1: Hello world を表示するプログラム<a name=\"ex1\"></a>\n",
    "\n",
    "下のセルに次の1行のプログラムを書いて、実行してみてください。\n",
    "\n",
    "```python\n",
    "print('Hello world')\n",
    "```"
   ]
  },
  {
   "cell_type": "code",
   "execution_count": null,
   "metadata": {},
   "outputs": [],
   "source": []
  },
  {
   "cell_type": "markdown",
   "metadata": {},
   "source": [
    "### 解説\n",
    "ここでのポイントは2つです。\n",
    "\n",
    "#### 1. `print()` \n",
    "`print()`は文字列や数字などを <u>画面に出力する**関数**</u><sup>[1](#annotation1)</sup>です。\n",
    "\n",
    "<a name=\"annotation1\"><sup>1</sup></a> データを渡すと決められた動作をする機能を持ったモノのことを「関数」と呼びます。\n",
    "\n",
    "<img src=\"https://github.com/qqep685d/MyIMGs/blob/master/illustration/about_function.png?raw=true\" width=\"400px\">\n",
    "\n",
    "\n",
    "#### 2. シングルクオテーション`'`\n",
    "関数に渡した文字が「文字列」であることをプログラムに教えるためには、その文字をシングルクオテーション`'` または　ダブルクオテーション `\"`で挟む必要があります。  \n",
    "\n",
    "もし、それらで挟まなかった場合、プログラムはその文字の塊を **変数**<sup>[2](#annotation2)</sup> として認識します。  \n",
    "\n",
    "挟まなかった場合、どうなるかは次のExercise 2の実行結果をご覧ください。\n",
    "\n",
    "<a name=\"annotation2\"><sup>2</sup></a> 変数については 「I-2-1. 変数、データ型」で学びます。"
   ]
  },
  {
   "cell_type": "markdown",
   "metadata": {},
   "source": [
    "---\n",
    "## Exercise 2: Hello world を表示するプログラム（失敗例）<a name=\"ex2\"></a>\n",
    "\n",
    "下のセルのプログラムを実行してみてください。  \n",
    "\n",
    "Exercise 1との違いは、シングルクオテーション`'`で文字が挟まれていません。  \n",
    "\n",
    "実行すると、エラー文が表示されます。\n"
   ]
  },
  {
   "cell_type": "code",
   "execution_count": null,
   "metadata": {},
   "outputs": [],
   "source": [
    "print(Hello world)"
   ]
  },
  {
   "cell_type": "markdown",
   "metadata": {},
   "source": [
    "### 解説\n",
    "エラー文`SyntaxError: invalid syntax`が表示されます。  \n",
    "Exercise 1の解説で述べたとおり、Hello worldが「文字列」としてプログラムに認識されていないためです。\n",
    "\n",
    "Hello worldをシングルクオテーション`'` または　ダブルクオテーション`\"`で挟んで、エラーを直してみてください。"
   ]
  },
  {
   "cell_type": "markdown",
   "metadata": {},
   "source": [
    "---\n",
    "## Exercise 3: 数値を表示するプログラム<a name=\"ex3\"></a>\n",
    "\n",
    "次の１行のプログラムを書いて、実行してみてください。\n",
    " \n",
    "```python\n",
    "print(123)\n",
    "```"
   ]
  },
  {
   "cell_type": "markdown",
   "metadata": {},
   "source": [
    "### 解説\n",
    "`print()`内の「123」はシングルクオテーション`'`（またはダブルクオテーション`\"`）で挟まれていません。  \n",
    "しかし、Exercise 2のようなエラーが発生しません。  \n",
    "なぜなら、「123」が数値としてプログラムに正しく認識されているからです。\n",
    "\n",
    "いまのところは、次のような理解で構いません。\n",
    "- 英文字を`print()`に渡す場合、`'`や`\"`で挟む必要がある\n",
    "- 数字を`print()`に渡す場合、`'`や`\"`が必要ない \n",
    "\n",
    "詳しくは「I-2-1. 変数、データ型」で学びます。\n"
   ]
  },
  {
   "cell_type": "markdown",
   "metadata": {},
   "source": [
    "---\n",
    "## Exercise 4: 四則計算プログラム<a name=\"ex4\"></a>\n",
    "\n",
    "今度は、プログラムで四則計算をおこなってみましょう。  \n",
    "次の4行のプログラムを書いて、実行してみてください。\n",
    "\n",
    "```python\n",
    "print(9 + 7)\n",
    "print(9 - 7)\n",
    "print(9 * 7)\n",
    "print(9 / 7)\n",
    "```\n"
   ]
  },
  {
   "cell_type": "markdown",
   "metadata": {},
   "source": [
    "### 解説\n",
    "`print()`に計算式を渡しています。  \n",
    "\n",
    "#### 四則計算の演算子\n",
    "- 加算: `+`\n",
    "- 減算: `-`\n",
    "- 乗算: `*`\n",
    "- 除算: `/`\n",
    "\n",
    "#### その他の演算子 \n",
    "- 除算（小数点以下切り捨て）: `//`\n",
    "- 剰余: `%`\n",
    "- べき乗: `**`\n",
    "\n",
    "これらの演算子も試してみてください。\n",
    "\n",
    "#### 演算子の優先順位\n",
    "括弧`()`を付けることで、括弧内の計算を他よりも優先させることが可能です。  \n",
    "例: `print((3+5)*6)` => 結果: 48"
   ]
  },
  {
   "cell_type": "markdown",
   "metadata": {},
   "source": [
    "### チャレンジ問題\n",
    "次の式をプログラムで計算してください。\n",
    "\n",
    "${\\frac{100 + 5 \\times 7}{3}  - 6}$"
   ]
  },
  {
   "cell_type": "code",
   "execution_count": null,
   "metadata": {},
   "outputs": [],
   "source": []
  },
  {
   "cell_type": "markdown",
   "metadata": {},
   "source": [
    "---\n",
    "## Exercise 5: 四則計算の式を文字列として表示するプログラム<a name=\"ex5\"></a>\n",
    "\n",
    "次の2行のプログラムの結果を比較してください。\n",
    "\n",
    "```python\n",
    "print(9 + 7)\n",
    "print('9 + 7')\n",
    "```"
   ]
  },
  {
   "cell_type": "code",
   "execution_count": null,
   "metadata": {},
   "outputs": [],
   "source": []
  },
  {
   "cell_type": "markdown",
   "metadata": {},
   "source": [
    "### 解説\n",
    "計算式をシングルクオテーション`'`（またはダブルクオテーション`\"`）で挟むことで、プログラムは計算式を文字列として認識します。  \n",
    "\n",
    "\n"
   ]
  },
  {
   "cell_type": "code",
   "execution_count": null,
   "metadata": {},
   "outputs": [],
   "source": []
  }
 ],
 "metadata": {
  "kernelspec": {
   "display_name": "Python 3",
   "language": "python",
   "name": "python3"
  },
  "language_info": {
   "codemirror_mode": {
    "name": "ipython",
    "version": 3
   },
   "file_extension": ".py",
   "mimetype": "text/x-python",
   "name": "python",
   "nbconvert_exporter": "python",
   "pygments_lexer": "ipython3",
   "version": "3.6.3"
  }
 },
 "nbformat": 4,
 "nbformat_minor": 2
}
