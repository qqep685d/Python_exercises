{
 "cells": [
  {
   "cell_type": "markdown",
   "metadata": {},
   "source": [
    "![ゲノム解析のためのPython練習帳](https://github.com/qqep685d/MyIMGs/blob/master/logo/python_exercises.png?raw=true)\n",
    "\n",
    "[目次ページ](https://github.com/qqep685d/Python_exercises)に戻る"
   ]
  },
  {
   "cell_type": "markdown",
   "metadata": {},
   "source": [
    "# 1. ノートブックの使い方\n",
    "\n",
    "今みているページは、Google Colabratoryの**ノートブック**です。  \n",
    "このノートブック上でPythonのプログラミング（書く、実行する、結果を見る）ができます。\n",
    "\n",
    "今回は、ノートブックの使い方の練習です。\n",
    "\n",
    "## 内容\n",
    "- Exercise 1: [プログラムを実行する](#ex1)\n",
    "- Exercise 2: [バグを含むプログラムを実行する](#ex2)\n",
    "- Exercise 3: [プログラムを書き換える1](#ex3)\n",
    "- Exercise 4: [プログラムを書き換える2](#ex4)\n",
    "- Exercise 5: [新しいセルを追加する](#ex5)\n",
    "- Exercise 6: [セルを移動させる](#ex6)\n",
    "- Exercise 7: [セルを削除する](#ex7)"
   ]
  },
  {
   "cell_type": "markdown",
   "metadata": {},
   "source": [
    "---\n",
    "## Exercise 1: プログラムを実行する<a name=\"ex1\"></a>\n",
    "\n",
    "下のセル（囲まれた枠内）には、 二次関数 $y = (x - 3)^{2}$ のグラフを描くプログラムが書かれています。 <sup>[1](#an1)</sup> \n",
    "\n",
    "このプログラムを実行してください。  \n",
    "\n",
    "<a name=\"an1\"><sup>1</sup></a> ここではプログラムの詳細な解説をしません。"
   ]
  },
  {
   "cell_type": "code",
   "execution_count": null,
   "metadata": {},
   "outputs": [],
   "source": [
    "import numpy as np\n",
    "import matplotlib.pyplot as plt\n",
    "%matplotlib inline\n",
    "\n",
    "x = np.linspace(0, 10, 100)\n",
    "y = (x - 3)**2\n",
    "\n",
    "plt.plot(x, y)"
   ]
  },
  {
   "cell_type": "markdown",
   "metadata": {},
   "source": [
    "### 解答と解説\n",
    "\n",
    "プログラムの実行方法はいくつかあります。\n",
    "\n",
    "1. 実行したいセルをクリックして、選択された状態にする\n",
    "1. 次のいずれかの操作をおこなう\n",
    "    - 「Shift + Enter」をクリック  \n",
    "    - 「Ctrl + Enter」（Macの場合「control + Enter」）  をクリック\n",
    "    - セルの左にある「▶︎」をクリック"
   ]
  },
  {
   "cell_type": "markdown",
   "metadata": {},
   "source": [
    "---\n",
    "## Exercise 2: バグを含むプログラムを実行する<a name=\"ex2\"></a>\n",
    "\n",
    "下のセルのプログラムにはバグ（プログラムのエラー）が含まれています。  \n",
    "そのプログラムを実行してください。  "
   ]
  },
  {
   "cell_type": "code",
   "execution_count": null,
   "metadata": {},
   "outputs": [],
   "source": [
    "import time\n",
    "\n",
    "for i in range(10):\n",
    "    if j % 2 == 0:\n",
    "        print('Good morning')\n",
    "    else:\n",
    "        print('Good evening')\n",
    "    time.sleep(1)"
   ]
  },
  {
   "cell_type": "markdown",
   "metadata": {},
   "source": [
    "### 解答と解説\n",
    "実行方法はExercise 1と同じです。\n",
    "\n",
    "1. 実行したいセルをクリックして、選択された状態にする\n",
    "1. 次のいずれかの操作をおこなう\n",
    "    - 「Shift + Enter」をクリック  \n",
    "    - 「Ctrl + Enter」（Macの場合「control + Enter」）  をクリック\n",
    "    - セルの左にある「▶︎」をクリック\n",
    "\n",
    "エラー文が発生すればOKです。\n",
    "\n",
    "<u>エラー文は重要です。</u>   \n",
    "どこにどんなバグがあるかを教えてくれます。\n",
    "\n",
    "今回の場合、 `---->`の行で、プログラムがストップしたことを教えてくれています。  \n",
    "また、バグの内容「NameError: name 'j' is not defined （'j'が定義されていません）」も教えてくれています。  \n",
    "\n",
    "バグを直す（**デバッギング**）はExercise 3でします。"
   ]
  },
  {
   "cell_type": "markdown",
   "metadata": {},
   "source": [
    "---\n",
    "## Exercise 3: プログラムを書き換える1<a name=\"ex3\"></a>\n",
    "\n",
    "Exercise 2と同じプログラムです。  \n",
    "`if j % 2 == 0:`の`j` を `i` に変更して実行してください。"
   ]
  },
  {
   "cell_type": "code",
   "execution_count": null,
   "metadata": {},
   "outputs": [],
   "source": [
    "import time\n",
    "\n",
    "for i in range(10):\n",
    "    if j % 2 == 0:\n",
    "        print('Good morning')\n",
    "    else:\n",
    "        print('Good evening')\n",
    "    time.sleep(1)"
   ]
  },
  {
   "cell_type": "markdown",
   "metadata": {},
   "source": [
    "### 解答と解説\n",
    "「Good morning」と「Good evening」が交互に5回ずつ出力されれば正しく実行されています。\n",
    "\n",
    "`j` を `i`に変更しただけですが、エラーが出力されなくなりました。  \n",
    "これは、バグを含む行がなくなったためです。  \n",
    "\n",
    "詳細は省きますが、`for i in range(10):`で`i`が使われているため、次の行でも同じ文字`i`を使う必要があり、Exercise 2でエラーが出ていました。  \n",
    "Exercise 3でそれを直したため、正しい結果が得られました。  "
   ]
  },
  {
   "cell_type": "markdown",
   "metadata": {},
   "source": [
    "---\n",
    "## Exercise 4: プログラムを書き換える2<a name=\"ex4\"></a>\n",
    "\n",
    "次のプログラムの`if j % 2 == 0:`の`2` を `3` に変更して実行してください。  \n",
    "プログラムはExercise 2, 3と同じものです。\n"
   ]
  },
  {
   "cell_type": "code",
   "execution_count": null,
   "metadata": {},
   "outputs": [],
   "source": [
    "import time\n",
    "\n",
    "for i in range(10):\n",
    "    if i % 2 == 0:\n",
    "        print('Good morning')\n",
    "    else:\n",
    "        print('Good evening')\n",
    "    time.sleep(1)"
   ]
  },
  {
   "cell_type": "markdown",
   "metadata": {},
   "source": [
    "### 解答と解説\n",
    "「Good morning」が3回に1回表示されれば正しく実行されています。\n",
    "\n",
    "`3` を `2`に変更するだけでプログラムの挙動が変わりました。   \n",
    "他の部分の数字を変更するとどうなるか、興味あれば試してください。  "
   ]
  },
  {
   "cell_type": "markdown",
   "metadata": {},
   "source": [
    "---\n",
    "## Exercise 5: 新しいセルを追加する<a name=\"ex5\"></a>\n",
    "\n",
    "この文章が書かれているセルのすぐ下に、プログラム（コード）を書くセルを追加してください。"
   ]
  },
  {
   "cell_type": "markdown",
   "metadata": {},
   "source": [
    "### 解答と解説\n",
    "ノートブック上部に「メニューバー」と「ツールバー」があります。\n",
    "- メニューバー: ファイル、編集、...\n",
    "- ツールバー: コード、テキスト、... \n",
    "\n",
    "<img src=\"https://github.com/qqep685d/MyIMGs/blob/master/screenshot/colaboratory_menu.png?raw=true\" width=\"600px\">\n",
    "\n",
    "ツールバーの「+ コード」をクリックすることで、コード用の新しいセルを追加できます。  \n",
    "「+ テキスト」をクリックすれば、テキスト用の新しいセルが追加されます。\n",
    "\n",
    "もしくは、セルの上端や下端にマウスカーソルを合わせると出現するバーでも新しいセルを追加できます。"
   ]
  },
  {
   "cell_type": "markdown",
   "metadata": {},
   "source": [
    "---\n",
    "## Exercise 6: セルを移動させる<a name=\"ex6\"></a>\n",
    "\n",
    "\n",
    "下のセルを、上または下に移動させてください。"
   ]
  },
  {
   "cell_type": "code",
   "execution_count": null,
   "metadata": {},
   "outputs": [],
   "source": [
    "# このセルを移動させてください"
   ]
  },
  {
   "cell_type": "markdown",
   "metadata": {},
   "source": [
    "### 解答と解説\n",
    "\n",
    "ツールバーの「⬆︎セル」や「⬇︎セル」をクリックすると、選択中のセルを上または下に移動できます。"
   ]
  },
  {
   "cell_type": "markdown",
   "metadata": {},
   "source": [
    "---\n",
    "## Exercise 7: セルを削除する<a name=\"ex7\"></a>\n",
    "\n",
    "このすぐ下の空のセルを削除してみてください。"
   ]
  },
  {
   "cell_type": "code",
   "execution_count": null,
   "metadata": {},
   "outputs": [],
   "source": [
    "# このセルを削除してください"
   ]
  },
  {
   "cell_type": "markdown",
   "metadata": {},
   "source": [
    "### 解答と解説\n",
    "\n",
    "メニューバー > 編集 > 選択したセルを削除　で、選択中のセルを削除できます。"
   ]
  },
  {
   "cell_type": "markdown",
   "metadata": {},
   "source": [
    "---\n",
    "その他のおもな機能はGoogle Colaboratoryを使いながら覚えてください。\n",
    "- ノートブックの名前を変更する\n",
    "- ノートブックを保存する\n",
    "- 新規のノートブックを開く\n",
    "- 以前保存したノートブックを再度開く\n",
    "- ショートカットキー、など"
   ]
  }
 ],
 "metadata": {
  "kernelspec": {
   "display_name": "Python 3",
   "language": "python",
   "name": "python3"
  },
  "language_info": {
   "codemirror_mode": {
    "name": "ipython",
    "version": 3
   },
   "file_extension": ".py",
   "mimetype": "text/x-python",
   "name": "python",
   "nbconvert_exporter": "python",
   "pygments_lexer": "ipython3",
   "version": "3.7.2"
  }
 },
 "nbformat": 4,
 "nbformat_minor": 2
}
