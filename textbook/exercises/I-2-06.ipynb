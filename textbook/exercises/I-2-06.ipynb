{
 "cells": [
  {
   "cell_type": "markdown",
   "metadata": {},
   "source": [
    "![ゲノム解析のためのPython練習帳](https://github.com/qqep685d/MyIMGs/blob/master/logo/python_exercises.png?raw=true)\n",
    "\n",
    "[目次ページ](https://github.com/qqep685d/Python_exercises)に戻る"
   ]
  },
  {
   "cell_type": "markdown",
   "metadata": {},
   "source": [
    "# I.2.06 リスト\n",
    "\n",
    "Pythonでは、複数の値のセットを扱うことが可能です。\n",
    "その一つが「リスト」です。\n",
    "\n",
    "## 内容\n",
    "- Exercise 1: [リストはどれか](#ex1)\n",
    "- Exercise 2: [リストを作る](#ex2)\n",
    "- Exercise 3: [リスト中の値を取り出す](#ex3)\n",
    "- Exercise 4: [範囲指定でリスト中の値を取り出す](#ex4)\n",
    "- Exercise 5: [リストの値を変更する](#ex5)\n",
    "- Exercise 6: [リストの長さ](#ex6)\n",
    "- Exercise 7: [リストに値を追加する](#ex7)\n",
    "- Exercise 8: [リストのリストのリストの値](#ex8)\n",
    "\n",
    "__注意: 「問題」のすぐ後に「解答と解説」があります。__"
   ]
  },
  {
   "cell_type": "markdown",
   "metadata": {},
   "source": [
    "---\n",
    "## Exercise 1: リストはどれか<a name=\"ex1\"></a>\n",
    "\n",
    "変数`a`, `b`, `c`のうち、どれがリストでしょうか？"
   ]
  },
  {
   "cell_type": "code",
   "execution_count": null,
   "metadata": {},
   "outputs": [],
   "source": [
    "a = ['aaa', 'bbb', 'ccc']\n",
    "b = \"aaa, bbb, ccc\"\n",
    "c = \"aaa bbb ccc\"\n"
   ]
  },
  {
   "cell_type": "markdown",
   "metadata": {},
   "source": [
    "### 解答と解説\n",
    "\n",
    "それぞれのデータ型を調べると、リストかどうかがわかります。\n",
    "データ型の確認には`print()`と`type()`の両方を使います。\n",
    "\n",
    "```python\n",
    "### 解答例 ###\n",
    "a = ['aaa', 'bbb', 'ccc']\n",
    "print(type(a))　　## リスト型\n",
    "\n",
    "b = \"aaa, bbb, ccc\"\n",
    "print(type(b))　　## 文字列型\n",
    "\n",
    "c = \"aaa bbb ccc\"\n",
    "print(type(c))　　## 文字列型\n",
    "```\n"
   ]
  },
  {
   "cell_type": "markdown",
   "metadata": {},
   "source": [
    "---\n",
    "## Exercise 2: リストを作る<a name=\"ex2\"></a>\n",
    "\n",
    "変数`s`, `i`, `f`はそれぞれ文字列型、整数型、小数点数型のデータです。  \n",
    "この3つの変数の値を、リスト型のデータとして、一つの変数`group`にまとめてください。"
   ]
  },
  {
   "cell_type": "code",
   "execution_count": null,
   "metadata": {},
   "outputs": [],
   "source": [
    "s = 'string'\n",
    "i = 110\n",
    "f = 3.14\n"
   ]
  },
  {
   "cell_type": "markdown",
   "metadata": {},
   "source": [
    "### 解答と解説\n",
    "\n",
    "`[]`に値を入れるとリスト型のデータになります。  \n",
    "値と値の間はカンマ`,`で区切ります。\n",
    "\n",
    "```python\n",
    "### 解答例 ###\n",
    "s = 'string'\n",
    "i = 110\n",
    "f = 3.14\n",
    "\n",
    "group = [s, i, f]\n",
    "print(group)\n",
    "```\n",
    "\n",
    "このように異なるデータ型の値も一つのリストに入れることが可能です。"
   ]
  },
  {
   "cell_type": "markdown",
   "metadata": {},
   "source": [
    "---\n",
    "## Exercise 3: リスト中の値を取り出す<a name=\"ex3\"></a>\n",
    "\n",
    "下のプログラムでは、リスト`mydata`に9個の値が入っています。  \n",
    "リスト中の値`C`を取り出してください。"
   ]
  },
  {
   "cell_type": "code",
   "execution_count": null,
   "metadata": {},
   "outputs": [],
   "source": [
    "mydata = ['A', 'T', 'G', 'A', 'C', 'T', 'T', 'G', 'A']\n"
   ]
  },
  {
   "cell_type": "markdown",
   "metadata": {},
   "source": [
    "### 解答と解説\n",
    "\n",
    "それぞれの値は、「インデックス（添え字）」と呼ばれる数字を指定することで、取得可能です。  \n",
    "```python\n",
    "# 書き方\n",
    "変数名[インデックス]\n",
    "```\n",
    "それぞれの値のインデックスは、最初の値が`[0]`、次の値が`[1]`、その次が`[2]`...です。<sup>[1](#annotation1)</sup>  \n",
    "\n",
    "<a name=\"annotation1\"><sup>1</sup></a> Pythonでは、データの数え方を「1」からではなく「0」から始め、0番目、1番目、2番目...とカウントします。\n",
    "\n",
    "<img src=\"https://github.com/qqep685d/MyIMGs/blob/master/illustration/list_index.png?raw=true\" width=\"400px\">\n",
    "\n",
    "```python\n",
    "### 解答例 ###\n",
    "mydata = ['A', 'T', 'G', 'A', 'C', 'T', 'T', 'G', 'A']\n",
    "print(mydata[4])\n",
    "```\n",
    "\n",
    "### 補足\n",
    "\n",
    "リストの後ろからカウントして値を取得することも可能です。  \n",
    "この場合、`[-1]`番目からカウントします。  \n",
    "`[-0]`番目はありません。\n",
    "\n",
    "<img src=\"https://github.com/qqep685d/MyIMGs/blob/master/illustration/list_index2.png?raw=true\" width=\"400px\">\n"
   ]
  },
  {
   "cell_type": "markdown",
   "metadata": {},
   "source": [
    "---\n",
    "## Exercise 4: 範囲指定でリスト中の値を取り出す<a name=\"ex4\"></a>\n",
    "\n",
    "リスト`mydata`の2番目から6番目までの値`['G', 'A', 'C', 'T', 'T']`をまとめて取り出してください。  "
   ]
  },
  {
   "cell_type": "code",
   "execution_count": null,
   "metadata": {},
   "outputs": [],
   "source": [
    "mydata = ['A', 'T', 'G', 'A', 'C', 'T', 'T', 'G', 'A']\n"
   ]
  },
  {
   "cell_type": "markdown",
   "metadata": {},
   "source": [
    "### 解答と解説\n",
    "\n",
    "「スライス」と呼ばれる機能を使って、範囲指定で複数の値を取得可能です。 \n",
    "\n",
    "```python\n",
    "#　書き方\n",
    "変数名[start:end]\n",
    "```\n",
    "\n",
    "スライスで指定する値は、値と値の間にある仕切りに番号が振られているようなイメージです。\n",
    "\n",
    "<img src=\"https://github.com/qqep685d/MyIMGs/blob/master/illustration/list_slice.png?raw=true\" width=\"400px\">\n",
    "\n",
    "```python\n",
    "### 解答例 ###\n",
    "myseq = ['A', 'T', 'G', 'A', 'C', 'T', 'T', 'G', 'A'] \n",
    "print(mydata[2:7])  #  \"2番目\"から\"6番目\"の値\n",
    "```"
   ]
  },
  {
   "cell_type": "markdown",
   "metadata": {},
   "source": [
    "---\n",
    "## Exercise 5: リストの値を変更する<a name=\"ex5\"></a>\n",
    "\n",
    "リスト`mydata`の3番目の値`A`を`G`に変更してください。"
   ]
  },
  {
   "cell_type": "code",
   "execution_count": null,
   "metadata": {},
   "outputs": [],
   "source": [
    "mydata = ['A', 'T', 'G', 'A', 'C', 'T', 'T', 'G', 'A']\n"
   ]
  },
  {
   "cell_type": "markdown",
   "metadata": {},
   "source": [
    "### 解答と解説\n",
    "\n",
    "`リスト[インデックス] = 値`の書き方で値を変更できます。\n",
    "\n",
    "```python\n",
    "### 解答例 ###\n",
    "mydata = ['A', 'T', 'G', 'A', 'C', 'T', 'T', 'G', 'A']\n",
    "mydata[3] = 'G'\n",
    "print(mydata)\n",
    "```"
   ]
  },
  {
   "cell_type": "markdown",
   "metadata": {},
   "source": [
    "---\n",
    "## Exercise 6: リストの長さ<a name=\"ex6\"></a>\n",
    "\n",
    "リスト`mydata`の長さ（値の個数）を調べてください。"
   ]
  },
  {
   "cell_type": "code",
   "execution_count": null,
   "metadata": {},
   "outputs": [],
   "source": [
    "mydata = ['A', 'T', 'G', 'A', 'C', 'T', 'T', 'G', 'A']\n"
   ]
  },
  {
   "cell_type": "markdown",
   "metadata": {},
   "source": [
    "### 解答と解説\n",
    "\n",
    "関数`len()`を使います。  \n",
    "`len()`はデータの長さを調べる関数です。  \n",
    "文字列型のデータの場合、文字列の長さを調べることが可能です。  \n",
    "リスト型のデータの場合、そのリストに入っている値の個数を調べることが可能です。\n",
    "\n",
    "```python\n",
    "### 解答例 ###\n",
    "mydata = ['A', 'T', 'G', 'A', 'C', 'T', 'T', 'G', 'A']\n",
    "print(len(mydata))\n",
    "```"
   ]
  },
  {
   "cell_type": "markdown",
   "metadata": {},
   "source": [
    "---\n",
    "## Exercise 7: リストに値を追加する<a name=\"ex7\"></a>\n",
    "\n",
    "リスト`mydata`の一番後ろに値`C`を追加してください。"
   ]
  },
  {
   "cell_type": "code",
   "execution_count": null,
   "metadata": {},
   "outputs": [],
   "source": [
    "mydata = ['A', 'T', 'G', 'A', 'C', 'T', 'T', 'G', 'A']\n"
   ]
  },
  {
   "cell_type": "markdown",
   "metadata": {},
   "source": [
    "### 解答と解説\n",
    "\n",
    "関数`append()`を使います。  \n",
    "書き方は`リスト.append(追加する値)` です。  \n",
    "\n",
    "```python\n",
    "### 解答例 ###\n",
    "mydata = ['A', 'T', 'G', 'A', 'C', 'T', 'T', 'G', 'A']\n",
    "mydata.append('C')\n",
    "print(mydata)\n",
    "```"
   ]
  },
  {
   "cell_type": "markdown",
   "metadata": {},
   "source": [
    "---\n",
    "## Exercise 8: リストのリストのリストの値<a name=\"ex8\"></a>\n",
    "\n",
    "下のセルのように、入れ子構造のリストを作成可能です。\n",
    "\n",
    "このうち、値`12`を取得してください。"
   ]
  },
  {
   "cell_type": "code",
   "execution_count": null,
   "metadata": {},
   "outputs": [],
   "source": [
    "Nums = [[[1, 2, 3], [4, 5, 6], [7, 8, 9]], [[10, 11, 12], [13,14]]]\n"
   ]
  },
  {
   "cell_type": "markdown",
   "metadata": {},
   "source": [
    "### 解答と解説\n",
    "\n",
    "`Nums[0]`でどうなるか？  \n",
    "外側のリストの0番目インデックスが取得されます。\n",
    "\n",
    "```python\n",
    "Nums = [[[1, 2, 3], [4, 5, 6], [7, 8, 9]], [[10, 11, 12], [13,14]]]\n",
    "print(Nums[0])  # => [[1, 2, 3], [4, 5, 6], [7, 8, 9]]\n",
    "```\n",
    "\n",
    "さらに、`Nums[0][1]`とすると、さらに1番目の値が取り出されます。\n",
    "\n",
    "```python\n",
    "Nums = [[[1, 2, 3], [4, 5, 6], [7, 8, 9]], [[10, 11, 12], [13,14]]]\n",
    "print(Nums[0][1])  # => [4, 5, 6]\n",
    "```\n",
    "\n",
    "インデックスを指定するごとに、より内側の値が取り出せます。\n",
    "\n",
    "```python\n",
    "### 解答例 ###\n",
    "Nums = [[[1, 2, 3], [4, 5, 6], [7, 8, 9]], [[10, 11, 12], [13,14]]]\n",
    "print(Nums[1][0][2])\n",
    "```"
   ]
  },
  {
   "cell_type": "markdown",
   "metadata": {},
   "source": []
  },
  {
   "cell_type": "code",
   "execution_count": null,
   "metadata": {},
   "outputs": [],
   "source": []
  }
 ],
 "metadata": {
  "kernelspec": {
   "display_name": "Python 3",
   "language": "python",
   "name": "python3"
  },
  "language_info": {
   "codemirror_mode": {
    "name": "ipython",
    "version": 3
   },
   "file_extension": ".py",
   "mimetype": "text/x-python",
   "name": "python",
   "nbconvert_exporter": "python",
   "pygments_lexer": "ipython3",
   "version": "3.7.2"
  }
 },
 "nbformat": 4,
 "nbformat_minor": 2
}
