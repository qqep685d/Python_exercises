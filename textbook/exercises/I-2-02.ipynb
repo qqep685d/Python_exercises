{
 "cells": [
  {
   "cell_type": "markdown",
   "metadata": {},
   "source": [
    "![ゲノム解析のためのPython練習帳](https://github.com/qqep685d/MyIMGs/blob/master/logo/python_exercises.png?raw=true)\n",
    "\n",
    "[目次ページ](https://github.com/qqep685d/Python_exercises)に戻る"
   ]
  },
  {
   "cell_type": "markdown",
   "metadata": {},
   "source": [
    "# I.2.02 データ型\n",
    "\n",
    "**データ型**とは、「文字列」や「整数」といったデータの種類のことです。\n",
    "\n",
    "## 内容\n",
    "- Exercise 1: [データ型を調べる](#ex1)\n",
    "- Exercise 2: [データ型を変換する1](#ex2)\n",
    "- Exercise 3: [データ型を変換する2](#ex3)\n",
    "\n",
    "__注意: 「問題」のすぐ後に「解答と解説」があります。__"
   ]
  },
  {
   "cell_type": "markdown",
   "metadata": {},
   "source": [
    "---\n",
    "## Exercise 1: データ型を調べる<a name=\"ex1\"></a>\n",
    "\n",
    "各変数に入っている値の「データ型」を調べてください。"
   ]
  },
  {
   "cell_type": "code",
   "execution_count": null,
   "metadata": {},
   "outputs": [],
   "source": [
    "a = '123 * 456'\n",
    "b = 123 * 456\n",
    "c = 123 / 456\n",
    "d = True\n",
    "e = [1, 2, 3]\n",
    "\n",
    "## 以下にコードを追記する\n"
   ]
  },
  {
   "cell_type": "markdown",
   "metadata": {},
   "source": [
    "### 解答と解説\n",
    "\n",
    "`type()`を使うとデータ型を調べられます。  \n",
    "書き方は`type(<調べたい値>)`です。  \n",
    "解答例では`print()`の中に`type()`を入れて、出力されるようにしています。\n",
    "\n",
    "```python\n",
    "## 解答例: 変数aのデータ型を調べる\n",
    "a = '123 * 456'\n",
    "print(type(a))\n",
    "```\n",
    "\n",
    "おもなデータ型には次のようなものがあります。\n",
    "- 文字列型 string\n",
    "- 数値\n",
    "    - 整数型 integer\n",
    "    - 浮動小数点数型 float\n",
    "- 真偽値型（True/False） boolean\n",
    "- リスト型 list\n",
    "- タプル型 tuple\n",
    "- ディクショナリ型 dictionary"
   ]
  },
  {
   "cell_type": "markdown",
   "metadata": {},
   "source": [
    "---\n",
    "## Exercise 2: データ型を変換する<a name=\"ex2\"></a>\n",
    "\n",
    "文字列のデータ型はそのままでは計算できません。  \n",
    "計算できるようにするためには、データ型を変える必要があります。\n",
    "\n",
    "以下のプログラムでは、変数x, yの値がどちらも文字列になっており、 `x + y`をすると「足し算」ではなく「文字列の結合」が起こります。  \n",
    "変数x, yを「整数型」に変換して、足し算をするプログラムに変えてください。  \n",
    "\n",
    "_`print(x + y)`の結果が「1573」になるプログラムにしてください。_"
   ]
  },
  {
   "cell_type": "code",
   "execution_count": null,
   "metadata": {},
   "outputs": [],
   "source": [
    "x = '921'\n",
    "y = '0652'\n",
    "\n",
    "print(x + y)"
   ]
  },
  {
   "cell_type": "markdown",
   "metadata": {},
   "source": [
    "### 解答と解説\n",
    "\n",
    "```python\n",
    "```\n",
    "\n",
    "データ型の変換には、これらの関数[<sup>1</sup>](#an1)を使います。\n",
    "\n",
    "- 文字列型への変換: `str()`\n",
    "- 整数型への変換: `int()`\n",
    "- 浮動小数点数型への変換: `float()`\n",
    "- 真偽値型への変換: `bool()`\n",
    "- リスト型への変換: `list()`\n",
    "- タプル型への変換: `tuple()`\n",
    "- ディクショナリ型への変換: `dict()`\n",
    "\n",
    "解答としては、変数x, yそれぞれを`int()`を使って整数型に変換してやればOKです。\n",
    "```python\n",
    "## 解答例\n",
    "x = '921'\n",
    "y = '0652'\n",
    "\n",
    "print(int(x) + int(y))\n",
    "```\n",
    "\n",
    "\n",
    "<a name=\"an1\"><sup>1</sup></a> `print()`や`type()`、`str()`など、特定の機能を持ったものを「関数」と呼びます。"
   ]
  },
  {
   "cell_type": "markdown",
   "metadata": {},
   "source": [
    "---\n",
    "## Exercise 3: データ型を変換する2<a name=\"ex3\"></a>\n",
    "\n",
    "次のプログラムは、データ型が適切でないため、上手く動きません。  \n",
    "「データ型の変換」する関数を使い、プログラムを直してください。"
   ]
  },
  {
   "cell_type": "code",
   "execution_count": null,
   "metadata": {},
   "outputs": [],
   "source": [
    "# 円の面積を求める\n",
    "\n",
    "r = '12'       # 半径\n",
    "pi = '3.14'  # 円周率π\n",
    "\n",
    "S = r * r * pi  # 面積 \n",
    "\n",
    "print(S)"
   ]
  }
 ],
 "metadata": {
  "kernelspec": {
   "display_name": "Python 3",
   "language": "python",
   "name": "python3"
  },
  "language_info": {
   "codemirror_mode": {
    "name": "ipython",
    "version": 3
   },
   "file_extension": ".py",
   "mimetype": "text/x-python",
   "name": "python",
   "nbconvert_exporter": "python",
   "pygments_lexer": "ipython3",
   "version": "3.7.2"
  }
 },
 "nbformat": 4,
 "nbformat_minor": 2
}
