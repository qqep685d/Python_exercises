{
 "cells": [
  {
   "cell_type": "markdown",
   "metadata": {},
   "source": [
    "![ゲノム解析のためのPython練習帳](https://github.com/qqep685d/MyIMGs/blob/master/logo/python_exercises.png?raw=true)\n",
    "\n",
    "[目次ページ](https://github.com/qqep685d/Python_exercises)に戻る"
   ]
  },
  {
   "cell_type": "markdown",
   "metadata": {},
   "source": [
    "# I.2.03 文字列\n",
    "\n",
    "データ型のひとつ「文字列」についてのExercisesです。\n",
    "\n",
    "## 内容\n",
    "- Exercise 1: [文字列はどれか](#ex1)\n",
    "- Exercise 2: [計算させない](#ex2)\n",
    "- Exercise 3: [文字列の結合](#ex3)\n",
    "- Exercise 4: [単純反復配列を作る](#ex4)\n",
    "\n",
    "__注意: 「問題」のすぐ後に「解答と解説」があります。__"
   ]
  },
  {
   "cell_type": "markdown",
   "metadata": {},
   "source": [
    "---\n",
    "## Exercise 1: 文字列型はどれか<a name=\"ex1\"></a>\n",
    "\n",
    "選択問題です。  \n",
    "変数`a`から`g`のうち、値が「文字列型」のデータ型であるものはどれでしょうか？  \n",
    "\n",
    "`type()`のカッコ内に変数名（aからgのどれか）を入れて実行して確認してください。  \n",
    "\n",
    "_type内の初期値には、例として変数aを入れています。_"
   ]
  },
  {
   "cell_type": "code",
   "execution_count": null,
   "metadata": {},
   "outputs": [],
   "source": [
    "a = '123 + 456'\n",
    "b = \"123 + 456\"\n",
    "c = 123 + 456\n",
    "d = '123' + '456'\n",
    "e = '123' * 4\n",
    "f = 123 * 4\n",
    "g = True\n",
    "h = 'True'\n",
    "i = False\n",
    "j = \"False\"\n",
    "\n",
    "\n",
    "print(type(a))"
   ]
  },
  {
   "cell_type": "markdown",
   "metadata": {},
   "source": [
    "### 解答と解説\n",
    "\n",
    "シングルクオテーション`'`やダブルクオテーション`\"`で文字を挟むと、「文字列」としてプログラムに認識されます。  \n",
    "\n",
    "上の問題では、`a`, `b`, `d`, `e`, `h`, `j`が文字列型です。\n",
    "\n",
    "- `a = '123 + 456'`は、計算式「123 + 456」が値としてそれぞれの変数に代入されています。  \n",
    "- `b = \"123 + 456\"`は、計算式「123 + 456」が値としてそれぞれの変数に代入されています。   \n",
    "- `c = 123 + 456`は、クオテーションで挟まれていないので、文字列ではなく、数値として認識されています。  \n",
    "- `d = '123' + '456'`は、「123」と「456」がそれぞれ別々の文字列として認識されており、演算子式`+`により文字列が結合されます。\n",
    "- `e = '123' * 4`は、「123」が文字列として認識されており、演算子式`* 4`により同じ文字が4個生成され、結合されます。  \n",
    "- `f = 123 * 4`は、クオテーションで挟まれていないので、文字列ではなく、数値として認識されています。  \n",
    "- `g = True`は、クオテーションで挟まれていないので、文字列ではありません。「真偽値型」と言われるデータ型です。  \n",
    "- `h = 'True'`は、クオテーションで挟まれているので、文字列です。  \n",
    "- `i = False`は、クオテーションで挟まれていないので、文字列ではありません。「真偽値型」と言われるデータ型です。\n",
    "- `j = \"False\"`は、クオテーションで挟まれているので、文字列です。  "
   ]
  },
  {
   "cell_type": "markdown",
   "metadata": {},
   "source": [
    "---\n",
    "## Exercise 2: 計算させない<a name=\"ex2\"></a>\n",
    "\n",
    "下のセルの変数`zipcode`には「123-4567」が書かれています。  \n",
    "郵便番号「123-4567」として、そのまま表示したいのですが、今のままでは計算されて「-4444」が結果として表示されてしまいます。  \n",
    "\n",
    "「123-4567」が表示されるようにプログラムを変更してください。"
   ]
  },
  {
   "cell_type": "code",
   "execution_count": null,
   "metadata": {},
   "outputs": [],
   "source": [
    "zipcode = 123-4567\n",
    "print(zipcode)"
   ]
  },
  {
   "cell_type": "markdown",
   "metadata": {},
   "source": [
    "### 解答と解説\n",
    "\n",
    "シングルクオテーション`'`（またはダブルクオテーション`\"`）を使います。\n",
    "\n",
    "```python\n",
    "### 解答例 ###\n",
    "zipcode = \"123-4567\"\n",
    "print(zipcode)\n",
    "```\n"
   ]
  },
  {
   "cell_type": "markdown",
   "metadata": {},
   "source": [
    "---\n",
    "## Exercise 3: 文字列の結合<a name=\"ex3\"></a>\n",
    "\n",
    "変数`x`と`y`の文字列を結合させて、変数`z`に入れてください。"
   ]
  },
  {
   "cell_type": "code",
   "execution_count": null,
   "metadata": {},
   "outputs": [],
   "source": [
    "x = 'base'\n",
    "y = 'ball'\n",
    "\n",
    "\n",
    "print(z) #　確認"
   ]
  },
  {
   "cell_type": "markdown",
   "metadata": {},
   "source": [
    "### 解答と解説\n",
    "\n",
    "演算子`+`を使うことで、文字列同士を結合させることが可能です。\n",
    "\n",
    "```python\n",
    "### 解答例 ###\n",
    "x = 'base'\n",
    "y = 'ball'\n",
    "\n",
    "z = x + y\n",
    "print(z) #　確認\n",
    "```\n"
   ]
  },
  {
   "cell_type": "markdown",
   "metadata": {},
   "source": [
    "---\n",
    "## Exercise 4: 単純反復配列<sup>[1](#annotation1)</sup>を作る<a name=\"pr2\"></a>\n",
    "\n",
    "以下のプログラムを変更して、「ATCG」が24回繰り返されるプログラムにしてください。  \n",
    "\n",
    "<a name=\"annotation1\"><sup>1</sup></a> 「単純反復配列（Simple Sequence Repeat; SSR）」とは、数塩基の配列が繰り返される配列のことで、「マイクロサテライト」とも言われます。"
   ]
  },
  {
   "cell_type": "code",
   "execution_count": null,
   "metadata": {},
   "outputs": [],
   "source": [
    "ssr = 'ATCG'\n",
    "print(ssr)"
   ]
  },
  {
   "cell_type": "markdown",
   "metadata": {},
   "source": [
    "### 解答と解説\n",
    "\n",
    "演算子`*`を使うことで、文字列を複製＆結合させることが可能です。\n",
    "\n",
    "```python\n",
    "### 解答例 ###\n",
    "ssr = 'ATCG' * 24\n",
    "print(ssr)\n",
    "```\n"
   ]
  }
 ],
 "metadata": {
  "kernelspec": {
   "display_name": "Python 3",
   "language": "python",
   "name": "python3"
  },
  "language_info": {
   "codemirror_mode": {
    "name": "ipython",
    "version": 3
   },
   "file_extension": ".py",
   "mimetype": "text/x-python",
   "name": "python",
   "nbconvert_exporter": "python",
   "pygments_lexer": "ipython3",
   "version": "3.7.2"
  }
 },
 "nbformat": 4,
 "nbformat_minor": 2
}
