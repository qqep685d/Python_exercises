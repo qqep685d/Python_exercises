{
 "cells": [
  {
   "cell_type": "markdown",
   "metadata": {},
   "source": [
    "![ゲノム解析のためのPython練習帳](https://github.com/qqep685d/MyIMGs/blob/master/logo/python_exercises.png?raw=true)\n",
    "\n",
    "[目次ページ](https://github.com/qqep685d/Python_exercises)に戻る"
   ]
  },
  {
   "cell_type": "markdown",
   "metadata": {},
   "source": [
    "# I.1.02 プログラムにコメントを入れる\n",
    "\n",
    "プログラムが長くなると、後から見たとき（例えば、1年後にそのプログラムを見たとき）に、何をするためのプログラムであったのかがわからなくなります。  \n",
    "そのような事態を避けるために、多くのプログラマーはプログラム中に適宜メモを書き加えます。\n",
    "\n",
    "今回は、メモを書き加える方法の練習です。  \n",
    "このメモのことを「コメント」と呼ぶことが多いです。\n",
    "\n",
    "## 内容\n",
    "- Exercise 1: [コメントを追加する](#ex1)\n",
    "- Exercise 2: [コメントアウト](#ex2)\n",
    "\n",
    "\n",
    "__注意: 「問題」のすぐ後に「解答と解説」があります。__"
   ]
  },
  {
   "cell_type": "markdown",
   "metadata": {},
   "source": [
    "---\n",
    "## Exercise 1: コメントを追加する<a name=\"ex1\"></a>\n",
    "\n",
    "下記セル内に次のコメントを書き加えてください。  \n",
    "追加する場所はどこでも構いません。\n",
    "\n",
    "```python\n",
    "これは四則計算プログラムです\n",
    "```"
   ]
  },
  {
   "cell_type": "code",
   "execution_count": 2,
   "metadata": {},
   "outputs": [
    {
     "name": "stdout",
     "output_type": "stream",
     "text": [
      "8\n",
      "-2\n",
      "15\n",
      "0.6\n"
     ]
    }
   ],
   "source": [
    "x = 3\n",
    "y = 5\n",
    "print(x + y)\n",
    "print(x - y)\n",
    "print(x * y)\n",
    "print(x / y)"
   ]
  },
  {
   "cell_type": "markdown",
   "metadata": {},
   "source": [
    "### 解答と解説\n",
    "\n",
    "ハッシュ記号`#`の後に残したいコメントを書きます。\n",
    "```python\n",
    "# 何らかのコメント\n",
    "```\n",
    "\n",
    "1行の中で、`#`より後はプログラムとして認識されなくなります。  \n",
    "そのため、次のように各行のコードの後にコメントを残すことも可能です。\n",
    "```python\n",
    "x = 3 　 　# xの値\n",
    "y = 5 　　 # yの値\n",
    "print(x + y)    # 足し算\n",
    "print(x - y)     # 引き算\n",
    "print(x * y)     # 掛け算\n",
    "print(x / y)     # 割り算\n",
    "```\n",
    "\n",
    "複数行にわたるコメントを残したい場合は、次のようにします。  \n",
    "シングルクオテーション`'`（または、ダブルクオテーション`\"`）3つで挟まれた部分がコメントとして認識されます。\n",
    "\n",
    "\n",
    "```python\n",
    "\"\"\"\n",
    "＊＊＊　ダブルクオテーションを使ったコメント　＊＊＊\n",
    "x, yにそれぞれ数字を代入する。\n",
    "数字は自由に変更可能。\n",
    "\"\"\"\n",
    "x = 3\n",
    "y = 5\n",
    "\n",
    "'''\n",
    "＊＊＊　シングルクオテーションを使ったコメント　＊＊＊\n",
    "四則計算\n",
    "上から順に足し算、引き算、掛け算、割り算\n",
    "'''\n",
    "print(x + y)\n",
    "print(x - y)\n",
    "print(x * y)\n",
    "print(x / y)\n",
    "```"
   ]
  },
  {
   "cell_type": "markdown",
   "metadata": {},
   "source": [
    "## Exercise 2: コメントアウト\n",
    "\n",
    "ハッシュ`#`はコメント（メモ）を残す時に使うだけではありません。  \n",
    "不要になったコードを、消さずに実行されないようにしたい場合にも使います。  \n",
    "（例えば、正しく動作しているか一時確認用に書いたコード、など）\n",
    "\n",
    "コードをコメント化して機能させなくすることを「コメントアウト」と言います。\n",
    "\n",
    "下記セルの次の一行をコメントアウトしてください。\n",
    "```python\n",
    "print(i)  #　確認\n",
    "```"
   ]
  },
  {
   "cell_type": "code",
   "execution_count": 13,
   "metadata": {},
   "outputs": [
    {
     "name": "stdout",
     "output_type": "stream",
     "text": [
      "0\n",
      "1\n",
      "2\n",
      "3\n",
      "4\n",
      "5\n",
      "6\n",
      "7\n",
      "8\n",
      "9\n",
      "46\n"
     ]
    }
   ],
   "source": [
    "j = 1  # j の初期値\n",
    "\n",
    "# i　の値として、0から9までの数字を順番に発生させる\n",
    "for i in range(10):\n",
    "    print(i)  #　確認\n",
    "    j = i + j  # j に i を加えて j を更新する\n",
    "    \n",
    "print(j)"
   ]
  },
  {
   "cell_type": "markdown",
   "metadata": {},
   "source": [
    "### 解答\n",
    "\n",
    "次のようにすればOKです。\n",
    "\n",
    "```python\n",
    "#print(i)  #　確認\n",
    "```"
   ]
  },
  {
   "cell_type": "markdown",
   "metadata": {},
   "source": [
    "---\n",
    "\n",
    "### コメントについて\n",
    "\n",
    "わかりやすくするためにコメントは多用すると、意図に反してわかりにくいプログラムになります。  \n",
    "たかがコメント、されどコメント。奥が深いです。  \n",
    "\n",
    "良いコメントの書き方について、さらに知りたい方は自身で調べてみてください。\n",
    "\n",
    "#### 参考になる書籍\n",
    "[リーダブルコード ――より良いコードを書くためのシンプルで実践的なテクニック](https://www.oreilly.co.jp/books/9784873115658/)  \n",
    "__注意: 初心者向けの本というよりも、ある程度プログラムを書いてきた人向けの本です。__"
   ]
  }
 ],
 "metadata": {
  "kernelspec": {
   "display_name": "Python 3",
   "language": "python",
   "name": "python3"
  },
  "language_info": {
   "codemirror_mode": {
    "name": "ipython",
    "version": 3
   },
   "file_extension": ".py",
   "mimetype": "text/x-python",
   "name": "python",
   "nbconvert_exporter": "python",
   "pygments_lexer": "ipython3",
   "version": "3.7.2"
  }
 },
 "nbformat": 4,
 "nbformat_minor": 2
}
