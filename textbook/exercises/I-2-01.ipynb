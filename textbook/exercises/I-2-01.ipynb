{
 "cells": [
  {
   "cell_type": "markdown",
   "metadata": {},
   "source": [
    "![ゲノム解析のためのPython練習帳](https://github.com/qqep685d/MyIMGs/blob/master/logo/python_exercises.png?raw=true)\n",
    "\n",
    "[目次ページ](https://github.com/qqep685d/Python_exercises)に戻る"
   ]
  },
  {
   "cell_type": "markdown",
   "metadata": {},
   "source": [
    "# I.2.01 変数\n",
    "\n",
    "## 内容\n",
    "- Exercise 1: [変数を設定する](#ex1)\n",
    "- Exercise 2: [変数を更新する](#ex2)\n",
    "- Exercise 3: [変数か文字列か](#ex3)\n",
    "\n",
    "__注意: 「問題」のすぐ後に「解答と解説」があります。__"
   ]
  },
  {
   "cell_type": "markdown",
   "metadata": {},
   "source": [
    "---\n",
    "## Exercise 1: 変数を設定する<a name=\"ex1\"></a>\n",
    "\n",
    "下のセルには変数`a`の中身を表示するプログラムが書かれています。  \n",
    "そこに、変数`a`に数値「123」を代入するコードを追加してください。"
   ]
  },
  {
   "cell_type": "code",
   "execution_count": null,
   "metadata": {},
   "outputs": [],
   "source": [
    "\n",
    "print(a)　# 表示"
   ]
  },
  {
   "cell_type": "markdown",
   "metadata": {},
   "source": [
    "### 解答と解説\n",
    "変数を設定する方法はいくつかありますが、よく使うのは`変数名 = <値>`です。  \n",
    "\n",
    "ここでの等号記号`=`は「代入」の意味で使われています。  \n",
    "数式（等式）の「イコール」ではありません。\n",
    "\n",
    "```python\n",
    "### Exercise 1の解答例 ###\n",
    "a = 123\n",
    "print(a)　# 表示\n",
    "```\n",
    "\n",
    "変数名は、半角英数字（a-z, A-Z, 0-9）とアンダーバ`_`を使って、任意に設定可能です。  \n",
    "ただし、以下の変数名は設定できません。\n",
    "- 数字で始まる　（例: 123var）\n",
    "- 予約語（下のセル）\n",
    "\n",
    "文字列、数値（自然数、小数点数）など様々なデータを<値>として変数に入れることが可能です。\n",
    " \n",
    "変数に入れた値は、上の解答例のように、その変数名を指定することで、必要な時に呼び出すことが可能です。 "
   ]
  },
  {
   "cell_type": "code",
   "execution_count": null,
   "metadata": {},
   "outputs": [],
   "source": [
    "## 予約語を確認（実行してください）\n",
    "## ここに表示されるワードは変数名として使用できません\n",
    "__import__('keyword').kwlist"
   ]
  },
  {
   "cell_type": "markdown",
   "metadata": {},
   "source": [
    "---\n",
    "## Exercise 2: 変数を更新する<a name=\"ex2\"></a>\n",
    "\n",
    "下のセルの変数`a`には最初1が代入されています。  \n",
    "変数の中身を文字列「ABC」に変更するコードを書いてください。"
   ]
  },
  {
   "cell_type": "code",
   "execution_count": null,
   "metadata": {},
   "outputs": [],
   "source": [
    "a = 1\n",
    "\n",
    "## この下にコードを追記\n",
    "\n",
    "\n",
    "print(a)　# 表示"
   ]
  },
  {
   "cell_type": "markdown",
   "metadata": {},
   "source": [
    "### 解答と解説\n",
    "\n",
    "再度`変数名 = <値>`を書くことで、変数の中身を更新することが可能です。\n",
    "\n",
    "```python\n",
    "### Exercise 2の解答例 ###\n",
    "a = 1\n",
    "\n",
    "## この下にコードを追記\n",
    "a = 'ABC'\n",
    "\n",
    "print(a)　# 表示\n",
    "```\n",
    "\n",
    "ここで以下のことにも注意してください。\n",
    "- 代入する値が文字列の場合、シングルクオテーション`'`（またはダブルクオテーション`\"`）で挟む\n",
    "- 代入する値が数値の場合、クオテーションを使わない\n",
    "\n",
    "これは、文字列の場合、クオテーション（`'`または`\"`）で挟まないと、変数として認識されるためです。  \n",
    "\n",
    "数値の場合、数字から始まる変数名が禁止されているため、変数として認識されません。  \n",
    "そのため、数値の代入にはクオテーション（`'`または`\"`）が不要です。  \n",
    "数値をクオテーション（`'`または`\"`）で挟むと、数値ではなく「文字列」として扱われます。"
   ]
  },
  {
   "cell_type": "code",
   "execution_count": null,
   "metadata": {},
   "outputs": [],
   "source": [
    "## 数値として認識されて「足し算」\n",
    "x = 3 + 2\n",
    "print(x) \n",
    "\n",
    "##　文字列として認識されて「結合」\n",
    "y = '3' + '2'\n",
    "print(y)"
   ]
  },
  {
   "cell_type": "markdown",
   "metadata": {},
   "source": [
    "---\n",
    "## Exercise 3: 変数か文字列か<a name=\"ex3\"></a>\n",
    "`print('zzz')`では何が表示されるでしょうか？  \n",
    "文字列でしょうか、それとも変数に代入されている値でしょうか？"
   ]
  },
  {
   "cell_type": "code",
   "execution_count": null,
   "metadata": {},
   "outputs": [],
   "source": [
    "zzz = 4 * 3\n",
    "print('zzz')"
   ]
  },
  {
   "cell_type": "markdown",
   "metadata": {},
   "source": [
    "### 解答と解説\n",
    "- クオテーション（`'`または`\"`）挟まれていると「文字列」として扱われる\n",
    "- クオテーション（`'`または`\"`）挟まれていない場合、\n",
    "    - 数字であれば「数値」として扱われる\n",
    "    - 文字列であれば「変数」として扱われる \n",
    "    \n",
    "Exercise 3では文字列「zzz」が表示されます。 \n",
    "\n",
    "次のセルのそれぞれの行は「文字列」として扱われるでしょうか？  それとも「数値」でしょうか？  "
   ]
  },
  {
   "cell_type": "code",
   "execution_count": null,
   "metadata": {},
   "outputs": [],
   "source": [
    "## 数値か文字列か\n",
    "print('5 / 3')\n",
    "print(5 / 3)"
   ]
  }
 ],
 "metadata": {
  "kernelspec": {
   "display_name": "Python 3",
   "language": "python",
   "name": "python3"
  },
  "language_info": {
   "codemirror_mode": {
    "name": "ipython",
    "version": 3
   },
   "file_extension": ".py",
   "mimetype": "text/x-python",
   "name": "python",
   "nbconvert_exporter": "python",
   "pygments_lexer": "ipython3",
   "version": "3.7.2"
  }
 },
 "nbformat": 4,
 "nbformat_minor": 2
}
