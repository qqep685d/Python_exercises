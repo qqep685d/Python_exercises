{
 "cells": [
  {
   "cell_type": "markdown",
   "metadata": {},
   "source": [
    "![ゲノム解析のためのPython練習帳](https://github.com/qqep685d/MyIMGs/blob/master/logo/python_exercises.png?raw=true)\n",
    "\n",
    "[目次ページ](https://github.com/qqep685d/Python_exercises)に戻る"
   ]
  },
  {
   "cell_type": "markdown",
   "metadata": {},
   "source": [
    "# I.2.04 数値\n",
    "\n",
    "データ型のひとつ「文字列」についてのExercisesです。\n",
    "\n",
    "## 内容\n",
    "- Exercise 1: [整数型と浮動小数点数型](#ex1)\n",
    "- Exercise 2: [数値に変換](#ex2)\n",
    "- Exercise 3: [四捨五入](#ex3)\n",
    "\n",
    "__注意: 「問題」のすぐ後に「解答と解説」があります。__"
   ]
  },
  {
   "cell_type": "markdown",
   "metadata": {},
   "source": [
    "---\n",
    "## Exercise 1: 整数型と浮動小数点数型<a name=\"ex1\"></a>\n",
    "\n",
    "変数`pre_num1`と`new_num1`、`pre_num2`、`new_num2`に入っている値とそのデータ型を確認してください。"
   ]
  },
  {
   "cell_type": "code",
   "execution_count": null,
   "metadata": {},
   "outputs": [],
   "source": [
    "pre_num1 = 12 * 34\n",
    "new_num1 = float(pre_num1)\n",
    "\n",
    "pre_num2 = 567 / 8\n",
    "new_num2 = int(pre_num2)\n"
   ]
  },
  {
   "cell_type": "markdown",
   "metadata": {},
   "source": [
    "### 解答と解説\n",
    "\n",
    "`print()`で値を確認します。  \n",
    "データ型の確認には`print()`と`type()`の両方を使います。\n",
    "\n",
    "```python\n",
    "### 解答例 ###\n",
    "pre_num1 = 12 * 34\n",
    "new_num1 = float(pre_num1)\n",
    "\n",
    "print(pre_num1, type(pre_num1))\n",
    "print(new_num1, type(new_num1))\n",
    "\n",
    "pre_num2 = 567 / 8\n",
    "new_num2 = int(pre_num2)\n",
    "\n",
    "print(pre_num2, type(pre_num2))\n",
    "print(new_num2, type(new_num2))\n",
    "```\n",
    "\n",
    "`float()`で「整数」のデータを「小数点数」に変換することが可能です。  \n",
    "また、`int()`を使うと、「小数点数」データを「整数」に変換することが可能です。  \n",
    "その際、四捨五入ではなく、小数点以下が切り捨てられます。\n",
    "\n",
    "なお、`print(<データ1>, <データ2>)`とすることで、データ1とデータ2の間には自動的にスペースが入り、二つのデータを並べて表示されます。"
   ]
  },
  {
   "cell_type": "markdown",
   "metadata": {},
   "source": [
    "---\n",
    "## Exercise 2: 数値に変換<a name=\"ex2\"></a>\n",
    "\n",
    "下のセルは初期状態のままでは計算できません。  \n",
    "データ型を変換する関数を使って、数値として足し算するプログラムにしてください。  "
   ]
  },
  {
   "cell_type": "code",
   "execution_count": null,
   "metadata": {},
   "outputs": [],
   "source": [
    "num1 = '123'\n",
    "num2 = '876'\n",
    "\n",
    "print(num1 + num2)"
   ]
  },
  {
   "cell_type": "markdown",
   "metadata": {},
   "source": [
    "### 解答と解説\n",
    "\n",
    "初期状態では、`num1`と`num2`には文字列型のデータが入っています。  \n",
    "そこで、`int()`（今回の場合、`float()`も可）を使って、整数型（`float()`の場合、浮動小数点数型）に変換します。  \n",
    "その際、変換後の値を元の変数に再代入します。  \n",
    "\n",
    "```python\n",
    "### 解答例 ###\n",
    "num1 = '123'\n",
    "num2 = '876'\n",
    "\n",
    "num1 = int(num1)\n",
    "num2 = int(num2)\n",
    "\n",
    "print(num1 + num2)\n",
    "```"
   ]
  },
  {
   "cell_type": "markdown",
   "metadata": {},
   "source": [
    "---\n",
    "## Exercise 3: 四捨五入<a name=\"ex3\"></a>\n",
    "\n",
    "変数`num`に入っている数値を小数点第2位で四捨五入するプログラム文を追加してください。"
   ]
  },
  {
   "cell_type": "code",
   "execution_count": null,
   "metadata": {},
   "outputs": [],
   "source": [
    "num = 25 / 7\n",
    "print(num)"
   ]
  },
  {
   "cell_type": "markdown",
   "metadata": {},
   "source": [
    "### 解答と解説\n",
    "\n",
    "`round()`を使います。  \n",
    "使い方は`round(<小数点数>, <残したい小数点以下の位>)`です。\n",
    "\n",
    "\n",
    "```python\n",
    "### 解答例 ###\n",
    "num = 25 / 7\n",
    "num = round(num, 2)\n",
    "print(num)\n",
    "```"
   ]
  },
  {
   "cell_type": "code",
   "execution_count": null,
   "metadata": {},
   "outputs": [],
   "source": []
  }
 ],
 "metadata": {
  "kernelspec": {
   "display_name": "Python 3",
   "language": "python",
   "name": "python3"
  },
  "language_info": {
   "codemirror_mode": {
    "name": "ipython",
    "version": 3
   },
   "file_extension": ".py",
   "mimetype": "text/x-python",
   "name": "python",
   "nbconvert_exporter": "python",
   "pygments_lexer": "ipython3",
   "version": "3.7.2"
  }
 },
 "nbformat": 4,
 "nbformat_minor": 2
}
