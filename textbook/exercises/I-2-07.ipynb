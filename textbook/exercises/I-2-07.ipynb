{
 "cells": [
  {
   "cell_type": "markdown",
   "metadata": {},
   "source": [
    "![ゲノム解析のためのPython練習帳](https://github.com/qqep685d/MyIMGs/blob/master/logo/python_exercises.png?raw=true)\n",
    "\n",
    "[目次ページ](https://github.com/qqep685d/Python_exercises)に戻る"
   ]
  },
  {
   "cell_type": "markdown",
   "metadata": {},
   "source": [
    "# I.2.08 辞書（ディクショナリ）\n",
    "\n",
    "今回は「辞書（ディクショナリ）」と呼ばれるデータ型についてです。  \n",
    "名前の通り、「検索文字（キー）」とそれに対する「値」がセットになったデータ型です。\n",
    "\n",
    "## 内容\n",
    "- Exercise 1: [ディクショナリはどれか](#ex1)\n",
    "- Exercise 2: [ディクショナリを作る](#ex2)\n",
    "- Exercise 3: [ディクショナリ中の値を取り出す](#ex3)\n",
    "- Exercise 4: [ディクショナリのキー一覧](#ex4)\n",
    "- Exercise 5: [ディクショナリの値一覧](#ex5)\n",
    "- Exercise 6: [ディクショナリに値を変更する](#ex6)\n",
    "- Exercise 7: [ディクショナリの値がリストのとき](#ex7)\n",
    "\n",
    "__注意: 「問題」のすぐ後に「解答と解説」があります。__"
   ]
  },
  {
   "cell_type": "markdown",
   "metadata": {},
   "source": [
    "---\n",
    "## Exercise 1: ディクショナリはどれか<a name=\"ex1\"></a>\n",
    "\n",
    "変数`a`, `b`, `c`のうち、どれがディクショナリでしょうか？"
   ]
  },
  {
   "cell_type": "code",
   "execution_count": null,
   "metadata": {},
   "outputs": [],
   "source": [
    "a = ['one', 1, 'two', 2, 'three', 3]\n",
    "b = {'one':1, 'two':2, 'three':3}\n",
    "c = ('one', 1, 'two', 2, 'three', 3)"
   ]
  },
  {
   "cell_type": "markdown",
   "metadata": {},
   "source": [
    "### 解答と解説\n",
    "\n",
    "それぞれのデータ型を調べると、ディクショナリかどうかがわかります。  \n",
    "データ型の確認には`print()`と`type()`の両方を使います。\n",
    "\n",
    "```python\n",
    "### 解答例 ###\n",
    "a = ['one', 1, 'two', 2, 'three', 3]\n",
    "print(type(a))　　## リスト型\n",
    "\n",
    "b = {'one':1, 'two':2, 'three':3}\n",
    "print(type(b))　　## ディクショナリ型\n",
    "\n",
    "c = ('one', 1, 'two', 2, 'three', 3)\n",
    "print(type(c))　　## タプル型\n",
    "```\n",
    "\n",
    "`[]`が使われていれば、リスト型データになります。    \n",
    "`{}`が使われていれば、ディクショナリ型データになります。  \n",
    "`()`が使われていれば、タプル型データになります。<sup>[1](#anno1)</sup>  \n",
    "\n",
    "リスト型やタプル型では、それぞれの値は「インデックス」と呼ばれる0から始まる連番（数字）と紐付いています。\n",
    "```python\n",
    "a = ['one', 1, 'two', 2, 'three', 3]\n",
    "print(a[0])  #=> 'one'\n",
    "print(a[1])  #=> 1\n",
    "```\n",
    "\n",
    "ディクショナリ型は、連番（インデックス）の代わりに「文字列や数字」がそれぞれの値と紐付きます。  \n",
    "インデックスの代わりにあたるものを、ディクショナリでは「キー」と呼びます。\n",
    "\n",
    "つまり、ディクショナリ型では、「キー」と「値」がセットでデータとして保存されます。  \n",
    "上の例では、 キー`one`には値`1`、キー`two`には値`2`、キー`three`には値`3`が紐付いています。  \n",
    "\n",
    "キーは任意の文字列や数字を設定できます。  \n",
    "しかし、一つのディクショナリの中で同じキーを2つ以上設定することはできません。\n",
    "```python\n",
    "## 一つのディクショナリ内でキーの重複はNG\n",
    "## 下の例では実行時にエラーが発生します\n",
    "d = {'one':1, 'two':2, 'three':3, 'one': 4} \n",
    "\n",
    "## 値の重複はOK\n",
    "e = {'one':1, 'two':2, 'three':3, 'third': 3} \n",
    "```\n",
    "\n",
    "\n",
    "<a name=\"anno1\"><sup>1</sup></a>タプル型は「値を変更できないリスト」のようなものです。  "
   ]
  },
  {
   "cell_type": "markdown",
   "metadata": {},
   "source": [
    "---\n",
    "## Exercise 2: ディクショナリを作る<a name=\"ex2\"></a>\n",
    "\n",
    "次の（3つのデータが入った）ディクショナリを作ってください。\n",
    "- ディクショナリ名: fruits_color\n",
    "- キー「apple」の値「red」\n",
    "- キー「lemon」の値「yellow」\n",
    "- キー「grape」の値「purple」"
   ]
  },
  {
   "cell_type": "code",
   "execution_count": null,
   "metadata": {},
   "outputs": [],
   "source": []
  },
  {
   "cell_type": "markdown",
   "metadata": {},
   "source": [
    "### 解答と解説\n",
    "\n",
    "`{}`を使ってディクショナリ型のデータを作ります。  \n",
    "また、`キー: 値`の書き方で、データを格納します。\n",
    "各データ間は`,`で区切ります。\n",
    "\n",
    "```python\n",
    "### 解答例1 ###\n",
    "fruits_color = { 'apple': 'red', 'lemon': 'yellow', 'grape': 'purple' }\n",
    "\n",
    "### 解答例2 ###\n",
    "fruits_color = {} # ディクショナリ型の変数のみを作成\n",
    "fruits_color['apple'] = 'red'\n",
    "fruits_color['lemon'] = 'yellow'\n",
    "fruits_color['grape'] = 'purple'\n",
    "\n",
    "print(fruits_color)\n",
    "```\n",
    "\n",
    "解答例1では、一度に各データを追加しています。  \n",
    "解答例2では、最初にディクショナリ型の変数を作成した後、各データを追加しています。  \n",
    "新しいデータを追加する際には、解答例2の`変数名[キー] = 値`の書き方をします。"
   ]
  },
  {
   "cell_type": "markdown",
   "metadata": {},
   "source": [
    "---\n",
    "## Exercise 3: ディクショナリ中の値を取り出す<a name=\"ex3\"></a>\n",
    "\n",
    "下のプログラムでは、ディクショナリ`traffic_signal`に4個のデータが入っています。  \n",
    "キー「blue」の値を取り出してください。"
   ]
  },
  {
   "cell_type": "code",
   "execution_count": null,
   "metadata": {},
   "outputs": [],
   "source": [
    "traffic_signal = { 'red': 'stop!', 'yellow': 'attention', 'blue': 'go!', 'green': 'go!' }\n"
   ]
  },
  {
   "cell_type": "markdown",
   "metadata": {},
   "source": [
    "### 解答と解説\n",
    "\n",
    "それぞれの値は、「キー」を指定することで、取得可能です。  \n",
    "書き方は`変数名[キー]`です。\n",
    "\n",
    "```python\n",
    "### 解答例 ###\n",
    "traffic_signal = { 'red': 'stop!', 'yellow': 'attention', 'blue': 'go!', 'green': 'go!' }\n",
    "print(traffic_signal['blue'])\n",
    "```\n"
   ]
  },
  {
   "cell_type": "markdown",
   "metadata": {},
   "source": [
    "---\n",
    "## Exercise 4: ディクショナリのキー一覧<a name=\"ex4\"></a>\n",
    "\n",
    "下のプログラムのディクショナリ`traffic_signal`のキーの一覧を得てください。"
   ]
  },
  {
   "cell_type": "code",
   "execution_count": null,
   "metadata": {},
   "outputs": [],
   "source": [
    "traffic_signal = { 'red': 'stop!', 'yellow': 'attention', 'blue': 'go!', 'green': 'go!' }\n"
   ]
  },
  {
   "cell_type": "markdown",
   "metadata": {},
   "source": [
    "### 解答と解説\n",
    "\n",
    "ディクショナリのキーの取得には`keys()`を使います。  \n",
    "使い方は、`ディクショナリ名.keys()`です。\n",
    "\n",
    "```python\n",
    "traffic_signal = { 'red': 'stop!', 'yellow': 'attention', 'blue': 'go!', 'green': 'go!' }\n",
    "print(traffic_signal.keys())\n",
    "```"
   ]
  },
  {
   "cell_type": "markdown",
   "metadata": {},
   "source": [
    "---\n",
    "## Exercise 5: ディクショナリの値一覧<a name=\"ex5\"></a>\n",
    "\n",
    "下のプログラムのディクショナリ`traffic_signal`の値の一覧を得てください。"
   ]
  },
  {
   "cell_type": "code",
   "execution_count": null,
   "metadata": {},
   "outputs": [],
   "source": [
    "traffic_signal = { 'red': 'stop!', 'yellow': 'attention', 'blue': 'go!', 'green': 'go!' }\n"
   ]
  },
  {
   "cell_type": "markdown",
   "metadata": {},
   "source": [
    "### 解答と解説\n",
    "\n",
    "ディクショナリのキーの取得には`values()`を使います。  \n",
    "使い方は、`ディクショナリ名.values()`です。\n",
    "\n",
    "```python\n",
    "traffic_signal = { 'red': 'stop!', 'yellow': 'attention', 'blue': 'go!', 'green': 'go!' }\n",
    "print(traffic_signal.values())\n",
    "```"
   ]
  },
  {
   "cell_type": "markdown",
   "metadata": {},
   "source": [
    "---\n",
    "## Exercise 6: ディクショナリに値を変更する<a name=\"ex6\"></a>\n",
    "\n",
    "現在、ディクショナリ`traffic_signal`のキー「yellow」の値として「attention」が割り当てられています。  \n",
    "キー「yellow」の値を「stop!」に変更してください。"
   ]
  },
  {
   "cell_type": "code",
   "execution_count": null,
   "metadata": {},
   "outputs": [],
   "source": [
    "traffic_signal = { 'red': 'stop!', 'yellow': 'attention', 'blue': 'go!', 'green': 'go!' }\n",
    "traffic_signal['yellow'] = 'stop!'\n",
    "\n",
    "# 確認\n",
    "print(traffic_signal)"
   ]
  },
  {
   "cell_type": "markdown",
   "metadata": {},
   "source": [
    "### 解答と解説\n",
    "\n",
    "`変数名[キー] = 新しい値`で変更可能です。\n",
    "\n",
    "```python\n",
    "### 解答例 ###\n",
    "traffic_signal = { 'red': 'stop!', 'yellow': 'attention', 'blue': 'go!', 'green': 'go!' }\n",
    "traffic_signal['yellow'] = 'stop!'\n",
    "\n",
    "# 確認\n",
    "print(traffic_signal)\n",
    "```"
   ]
  },
  {
   "cell_type": "markdown",
   "metadata": {},
   "source": [
    "---\n",
    "## Exercise 7: ディクショナリの値がリストのとき<a name=\"ex7\"></a>\n",
    "\n",
    "ディクショナリ`mydata`の各キー`sample1`、`sample2`、`sample3`にはリスト型の値が設定されています。  \n",
    "キー「sample3」の値の中にある`C`を取得してください。"
   ]
  },
  {
   "cell_type": "code",
   "execution_count": null,
   "metadata": {},
   "outputs": [],
   "source": [
    "mydata = {\n",
    "    'sample1': ['A', 'T', 'G', 'A', 'C', 'T', 'T', 'G', 'A'], \n",
    "    'sample2': ['A', 'T', 'G', 'A', 'C', 'A', 'T', 'G', 'A'], \n",
    "    'sample3': ['A', 'T', 'G', 'T', 'C', 'T', 'T', 'G', 'A'],\n",
    "}\n"
   ]
  },
  {
   "cell_type": "markdown",
   "metadata": {},
   "source": [
    "### 解答と解説\n",
    "\n",
    "`mydata['sample3']`とするとどのようなデータが取得できるでしょうか？\n",
    "```python\n",
    "print(mydata['sample3'])  # => ['A', 'T', 'G', 'T', 'C', 'T', 'T', 'G', 'A']\n",
    "```\n",
    "\n",
    "さらに、その取得されたリストデータから値`C`を取り出せばOKです。  \n",
    "リストのインデックスは0番から始まることに注意してください。  \n",
    "「C」は4番目の値のため、`mydata['sample3'][4]`で取り出すことが可能です。\n",
    "\n",
    "```python\n",
    "### 解答例 ###\n",
    "mydata = {\n",
    "    'sample1': ['A', 'T', 'G', 'A', 'C', 'T', 'T', 'G', 'A'], \n",
    "    'sample2': ['A', 'T', 'G', 'A', 'C', 'A', 'T', 'G', 'A'], \n",
    "    'sample3': ['A', 'T', 'G', 'T', 'C', 'T', 'T', 'G', 'A'],\n",
    "}\n",
    "\n",
    "print(mydata['sample3'][4])\n",
    "```"
   ]
  },
  {
   "cell_type": "code",
   "execution_count": null,
   "metadata": {},
   "outputs": [],
   "source": []
  }
 ],
 "metadata": {
  "kernelspec": {
   "display_name": "Python 3",
   "language": "python",
   "name": "python3"
  },
  "language_info": {
   "codemirror_mode": {
    "name": "ipython",
    "version": 3
   },
   "file_extension": ".py",
   "mimetype": "text/x-python",
   "name": "python",
   "nbconvert_exporter": "python",
   "pygments_lexer": "ipython3",
   "version": "3.7.2"
  }
 },
 "nbformat": 4,
 "nbformat_minor": 2
}
