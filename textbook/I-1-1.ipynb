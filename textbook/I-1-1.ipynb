{
 "cells": [
  {
   "cell_type": "markdown",
   "metadata": {},
   "source": [
    "![ゲノム解析のためのPython練習帳](../images/logo.png)\n",
    "\n",
    "<div style=\"text-align: right;\">\n",
    "    <a href=\"../index.ipynb\">目次ページ</a>へ\n",
    "</div>"
   ]
  },
  {
   "cell_type": "markdown",
   "metadata": {},
   "source": [
    "# I-1-1. プログラムを実行してみる\n",
    "\n",
    "まずは、このツール「Google Colaboratory」のノートブックの操作方法を勉強します。\n",
    "\n",
    "## 難易度\n",
    "- 入門レベル: プログラミングを初めて勉強する \n",
    "\n",
    "## 目標\n",
    "- ノートブックの操作方法を知る\n",
    "\n",
    "## 内容\n",
    "1. [Exercise 1](#ex1)\n",
    "1. [Exercise 2](#ex2)\n",
    "1. [Exercise 3](#ex3)\n",
    "1. [Exercise 4](#ex4)"
   ]
  },
  {
   "cell_type": "markdown",
   "metadata": {},
   "source": [
    "## Exercise 1<a name=\"ex1\"></a>\n"
   ]
  }
 ],
 "metadata": {
  "kernelspec": {
   "display_name": "Python 3",
   "language": "python",
   "name": "python3"
  },
  "language_info": {
   "codemirror_mode": {
    "name": "ipython",
    "version": 3
   },
   "file_extension": ".py",
   "mimetype": "text/x-python",
   "name": "python",
   "nbconvert_exporter": "python",
   "pygments_lexer": "ipython3",
   "version": "3.6.3"
  }
 },
 "nbformat": 4,
 "nbformat_minor": 2
}
