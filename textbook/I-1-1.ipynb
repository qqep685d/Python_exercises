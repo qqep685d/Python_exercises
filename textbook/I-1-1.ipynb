{
 "cells": [
  {
   "cell_type": "markdown",
   "metadata": {},
   "source": [
    "![ゲノム解析のためのPython練習帳](https://github.com/qqep685d/MyIMGs/blob/master/logo/python_exercises.png?raw=true)\n",
    "\n",
    "[目次ページ](https://github.com/qqep685d/Python_exercises)に戻る"
   ]
  },
  {
   "cell_type": "markdown",
   "metadata": {},
   "source": [
    "# I-1-1. プログラムを実行してみる\n",
    "\n",
    "Pythonの勉強していく前に、プログラムの解析環境（いま見ているページ）について少し勉強しましょう。\n",
    "\n",
    "いま私たちは、 **Google Colaboratory** というサービスを利用して、 **ノートブック** と呼ばれるページを見ています。  \n",
    "ノートブックの **セル** <sup>[1](#annotation1)</sup> と呼ばれるエリアに<u>プログラムを書いて、実行して、その結果を見る（表示する）</u>ことが可能です。\n",
    " \n",
    "<a name=\"annotation1\"><sup>1</sup></a> セルは2種類あり、プログラムを書き込む **コードセル** と、文章を書き込む **テキストセル** があります。  この文章が書かれているのはテキストセルです。\n",
    "\n",
    "## 目標\n",
    "- ノートブックの操作方法を知る\n",
    "\n",
    "## 練習内容\n",
    "1. Exercise 1: [プログラムを実行してみる1](#ex1)\n",
    "1. Exercise 2: [プログラムを実行してみる2（失敗例）](#ex2)\n",
    "1. Exercise 3: [プログラムを実行してみる3](#ex3)\n",
    "1. Exercise 4: [プログラムを書き換えてみる](#ex4)\n",
    "1. Exercise 5: [新しいセルを追加する](#ex5)\n",
    "1. Exercise 6: [セルを移動させる](#ex6)\n",
    "1. Exercise 7: [セルを削除する](#ex7)\n",
    "1. Exercise 8: [ノートブックを保存する](#ex8)\n",
    "1. Exercise 9: [ノートブックの名前を変更する](#ex9)"
   ]
  },
  {
   "cell_type": "markdown",
   "metadata": {},
   "source": [
    "---\n",
    "## Exercise 1: プログラムを実行してみる1<a name=\"ex1\"></a>\n",
    "\n",
    "プログラムを自分で書いていく前に、まずはすでに書かれたプログラムを実行してみましょう。  \n",
    "\n",
    "実行するのは二次関数 $y = (x - 3)^{2}$ のグラフを描くプログラムです。  \n",
    "プログラムの詳細については、今は気にしなくても構いません。\n",
    "\n",
    "手順は次のとおりです。\n",
    "1. 下のセル（灰色のエリア）をクリックして選択する\n",
    "1. プログラムを書く （今回は既に書かれています）\n",
    "1. **Shift + Enter** で実行  \n",
    "    または、 **Ctrl + Enter** （Macの場合 **control + Enter** ）   \n",
    "    または、 セルの左にある **▶︎** をクリック\n",
    "\n",
    "セルのすぐ下にグラフが表示されれば、正常に実行できています。"
   ]
  },
  {
   "cell_type": "code",
   "execution_count": null,
   "metadata": {},
   "outputs": [],
   "source": [
    "import numpy as np\n",
    "import matplotlib.pyplot as plt\n",
    "%matplotlib inline\n",
    "\n",
    "x = np.linspace(0, 10, 100)\n",
    "y = (x - 3)**2\n",
    "\n",
    "plt.plot(x, y)"
   ]
  },
  {
   "cell_type": "markdown",
   "metadata": {},
   "source": [
    "---\n",
    "## Exercise 2: プログラムを実行してみる2（失敗例）<a name=\"ex2\"></a>\n",
    "\n",
    "次に、エラーを含むプログラムを実行してみましょう。  \n",
    "\n",
    "プログラムの大部分は先ほどと同じですが、 $y = (x - 3)^{2}$ の x を a に変更しています。\n",
    "\n",
    "\n",
    "実行の手順はExercise 1と同じです。\n",
    "\n",
    "実行すると、その結果として、エラー文が表示されます。"
   ]
  },
  {
   "cell_type": "code",
   "execution_count": null,
   "metadata": {},
   "outputs": [],
   "source": [
    "import numpy as np\n",
    "import matplotlib.pyplot as plt\n",
    "%matplotlib inline\n",
    "\n",
    "x = np.linspace(0, 10, 100)\n",
    "y = (a - 3)**2\n",
    "\n",
    "plt.plot(x, y)"
   ]
  },
  {
   "cell_type": "markdown",
   "metadata": {},
   "source": [
    "### エラー文の解説\n",
    "とくに重要なのは、エラー文の最後の行です。  \n",
    "今回の場合、 `NameError: name 'a' is not defined`<sup>[2](#annotation2)</sup> と書かれています。  \n",
    "\n",
    "また、プログラムを実行した際にどこでストップしたかを `---->`で示してくれています。\n",
    "\n",
    "<a name=\"annotation2\"><sup>2</sup></a> 今はあまり気にしなくてもいいですが、「'a'が定義されていません」と教えてくれています。"
   ]
  },
  {
   "cell_type": "markdown",
   "metadata": {},
   "source": [
    "---\n",
    "## Exercise 3: プログラムを実行してみる3<a name=\"ex3\"></a>\n",
    "\n",
    "別のプログラムも実行してみましょう。  \n",
    "\n",
    "今度のプログラムは、文（**文字列**）を10回出力するプログラムです。  \n",
    "実行すると、「Good morning」と「Good evening」が交互に出力されます。"
   ]
  },
  {
   "cell_type": "code",
   "execution_count": null,
   "metadata": {},
   "outputs": [],
   "source": [
    "import time\n",
    "\n",
    "for i in range(10):\n",
    "    if i % 2 == 0:\n",
    "        print('Good morning')\n",
    "    else:\n",
    "        print('Good evening')\n",
    "    time.sleep(1)"
   ]
  },
  {
   "cell_type": "markdown",
   "metadata": {},
   "source": [
    "---\n",
    "## Exercise 4: プログラムを書き換えてみる<a name=\"ex4\"></a>\n",
    "\n",
    "Exercise 3のプログラムを書き換えて実行してみましょう。  \n",
    "\n",
    "下のセルの `i % 2` を `i % 3` に変更して実行してください。\n",
    "\n",
    "3回に1回「Good morning」が出力されるプログラムに変わります。"
   ]
  },
  {
   "cell_type": "code",
   "execution_count": null,
   "metadata": {},
   "outputs": [],
   "source": [
    "import time\n",
    "\n",
    "for i in range(10):\n",
    "    if i % 2 == 0:\n",
    "        print('Good morning')\n",
    "    else:\n",
    "        print('Good evening')\n",
    "    time.sleep(1)"
   ]
  },
  {
   "cell_type": "markdown",
   "metadata": {},
   "source": [
    "---\n",
    "## Exercise 5: 新しいセルを追加する<a name=\"ex5\"></a>\n",
    "\n",
    "ノートブック上部に **メニューバー** と **ツールバー** があります。\n",
    "- メニューバー: ファイル、編集、...\n",
    "- ツールバー: コード、テキスト、... \n",
    "\n",
    "<img src=\"https://github.com/qqep685d/MyIMGs/blob/master/screenshot/colaboratory_menu.png?raw=true\" width=\"600px\">\n",
    "\n",
    "ツールバーの「コード」をクリックすることで、選択中のセルの下に新しいコードセルを追加できます。  \n",
    "「テキスト」をクリックすれば、新しいテキストセルが追加されます。\n",
    "\n",
    "新しいセルを追加する方法は他にもあります。  \n",
    "セルの上端や下端にマウスカーソルを合わせると出現するバーでも新しいセルを追加できます。\n",
    "\n",
    "この文章が書かれているセルのすぐ下にコードセルを追加してみてください。"
   ]
  },
  {
   "cell_type": "markdown",
   "metadata": {},
   "source": [
    "---\n",
    "## Exercise 6: セルを移動させる<a name=\"ex6\"></a>\n",
    "\n",
    "ツールバーの **⬆︎セル** や **⬇︎セル** をクリックすると、選択中のセルを上または下に移動できます。\n",
    "\n",
    "Exercise 5で追加したセルを、この文章の下に移動してみてください。"
   ]
  },
  {
   "cell_type": "markdown",
   "metadata": {},
   "source": [
    "---\n",
    "## Exercise 7: セルを削除する<a name=\"ex7\"></a>\n",
    "\n",
    "メニューバー > 編集 > 選択したセルを削除　で、選択中のセルを削除できます。\n",
    "\n",
    "このすぐ下の空のセルを削除してみてください。"
   ]
  },
  {
   "cell_type": "code",
   "execution_count": null,
   "metadata": {},
   "outputs": [],
   "source": [
    "# このセルを削除してください"
   ]
  },
  {
   "cell_type": "markdown",
   "metadata": {},
   "source": [
    "---\n",
    "## Exercise 8: ノートブックを保存する<a name=\"ex8\"></a>\n",
    "\n",
    "メニューバー > ファイル > ドライブにコピーを保存...  で、現在表示しているノートブックをGoogle Driveに保存できます。<sup>[3](#annotation3)</sup>\n",
    "\n",
    "もしくは、**Ctrl + S**（Macの場合 **command + S**）のショートカットキーでも保存できます。\n",
    "\n",
    "<a name=\"annotation3\"><sup>3</sup></a> 各自の環境によって保存先は異なるかもしれません。  \n",
    "　筆者の場合、Google Driveの「Colab Notebooks」というフォルダに保存されます。  \n"
   ]
  },
  {
   "cell_type": "markdown",
   "metadata": {},
   "source": [
    "---\n",
    "## Exercise 9: ノートブックの名前を変更する<a name=\"ex9\"></a>\n",
    "\n",
    "メニューバー > ファイル > 名前を変更...  で、ノートブックの名前（ファイル名）を変更できます。\n",
    "\n",
    "もしくは、ノートブック上部にあるファイル名（下図ではオレンジで囲まれた部分）をクリックすれば名前を変更できます。\n",
    "\n",
    "<img src=\"https://github.com/qqep685d/MyIMGs/blob/master/screenshot/colaboratory_name.png?raw=true\" width=\"350px\">\n",
    "\n",
    "変更する際の注意として、**.ipynb**<sup>[4](#annotation4)</sup> は消さない方が良いでしょう。  \n",
    "これはファイルの記述形式を示す **拡張子** と呼ばれるものです。\n",
    "\n",
    "<a name=\"annotation4\"><sup>4</sup></a> このノートブックは、IPython Notebook（アイパイソン・ノートブック）形式のファイルです。\n",
    "\n",
    "好きなファイル名に変更してみてください。"
   ]
  },
  {
   "cell_type": "markdown",
   "metadata": {},
   "source": [
    "---\n",
    "他にも、多数の機能（新規のノートブックを開く、以前保存したノートブックを再度開く、ショートカットキーなど）があります。  \n",
    "すべて取り上げることは難しいので割愛しますが、基本的な操作はGoogle Colaboratoryを使っていれば自然と覚えるでしょう。  "
   ]
  },
  {
   "cell_type": "markdown",
   "metadata": {},
   "source": [
    "[I-1-2. 簡単なプログラムHello worldを書いてみる](https://colab.research.google.com/github/qqep685d/Python_exercises/blob/master/textbook/I-1-2.ipynb)に進む | [目次ページ](https://github.com/qqep685d/Python_exercises)に戻る"
   ]
  },
  {
   "cell_type": "code",
   "execution_count": null,
   "metadata": {},
   "outputs": [],
   "source": []
  }
 ],
 "metadata": {
  "kernelspec": {
   "display_name": "Python 3",
   "language": "python",
   "name": "python3"
  },
  "language_info": {
   "codemirror_mode": {
    "name": "ipython",
    "version": 3
   },
   "file_extension": ".py",
   "mimetype": "text/x-python",
   "name": "python",
   "nbconvert_exporter": "python",
   "pygments_lexer": "ipython3",
   "version": "3.6.3"
  }
 },
 "nbformat": 4,
 "nbformat_minor": 2
}
