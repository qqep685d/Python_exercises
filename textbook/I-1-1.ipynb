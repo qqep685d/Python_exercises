{
 "cells": [
  {
   "cell_type": "markdown",
   "metadata": {},
   "source": [
    "![ゲノム解析のためのPython練習帳](https://github.com/qqep685d/MyIMGs/blob/master/logo/python_exercises.png?raw=true)\n",
    "\n",
    "[目次ページ](https://github.com/qqep685d/Python_exercises)へ"
   ]
  },
  {
   "cell_type": "markdown",
   "metadata": {},
   "source": [
    "# I-1-1. プログラムを実行してみる\n",
    "\n",
    "Pythonの勉強していく前に、プログラムの解析環境（いま見ているページ）について、少し勉強しましょう。\n",
    "\n",
    "いま私たちは、 **Google Colaboratory** というサービスを利用して、 **ノートブック** と呼ばれるページを見ています。  \n",
    "このノートブック上で、<u>プログラムを書いて、実行して、その結果を見る（表示する）</u>ことが可能です。\n",
    "\n",
    "## 難易度\n",
    "- 入門レベル: プログラミングを初めて勉強する \n",
    "\n",
    "## 目標\n",
    "- ノートブックの操作方法を知る\n",
    "\n",
    "## 練習内容\n",
    "1. Exercise 1: [プログラムを実行してみる](#ex1)\n",
    "1. Exercise 2: [プログラムを実行してみる（失敗例）](#ex2)\n",
    "1. Exercise 3: [](#ex3)\n",
    "1. Exercise 4: [](#ex4)"
   ]
  },
  {
   "cell_type": "markdown",
   "metadata": {},
   "source": [
    "## Exercise 1: プログラムを実行してみる<a name=\"ex1\"></a>\n",
    "\n",
    "プログラムの実行の仕方を学びましょう。  \n",
    "\n",
    "手順は次のとおりです。\n",
    "1. セルを選択\n",
    "1. プログラムを書く （今回は事前に書いています）\n",
    "1. **Shift + Enter** で実行  \n",
    "    または、 **Ctrl + Enter** （Macの場合 **control + Enter** ）   \n",
    "    または、 セルの左にある **▶︎** をクリック\n",
    "\n",
    "実行すると、その結果として、セルのすぐ下にグラフが表示されます。\n",
    "\n",
    "#### 用語説明\n",
    "プログラムを書き込む部分を **セル** と呼びます。  \n",
    "セルは2種類あり、プログラムを書き込む **コードセル** と、このセルのように文章を書き込む **テキストセル** があります。\n",
    "\n",
    "#### プログラムの簡単な説明\n",
    "<<<>>>\n"
   ]
  },
  {
   "cell_type": "code",
   "execution_count": 20,
   "metadata": {},
   "outputs": [
    {
     "data": {
      "text/plain": [
       "[<matplotlib.lines.Line2D at 0x10fed7d30>]"
      ]
     },
     "execution_count": 20,
     "metadata": {},
     "output_type": "execute_result"
    },
    {
     "data": {
      "image/png": "[encoded data removed]",
      "text/plain": [
       "<Figure size 432x288 with 1 Axes>"
      ]
     },
     "metadata": {
      "needs_background": "light"
     },
     "output_type": "display_data"
    }
   ],
   "source": [
    "import numpy as np\n",
    "import matplotlib.pyplot as plt\n",
    "%matplotlib inline\n",
    "\n",
    "x = np.linspace(0, 10, 100)\n",
    "y = (x - 3)**2\n",
    "\n",
    "plt.plot(x, y)"
   ]
  },
  {
   "cell_type": "markdown",
   "metadata": {},
   "source": [
    "## Exercise 2: プログラムを実行してみる（失敗例）<a name=\"ex2\"></a>\n",
    "\n",
    "次に、エラーを含むプログラムを実行してみましょう。  \n",
    "\n",
    "実行の手順はExercise 1で学んだとおりです。\n",
    "\n",
    "実行すると、その結果として、エラー文が表示されます。\n",
    "\n",
    "#### プログラムの簡単な説明\n",
    "<<<>>>"
   ]
  },
  {
   "cell_type": "code",
   "execution_count": null,
   "metadata": {},
   "outputs": [],
   "source": []
  },
  {
   "cell_type": "markdown",
   "metadata": {},
   "source": [
    "#### エラー文の解説\n",
    "か"
   ]
  }
 ],
 "metadata": {
  "kernelspec": {
   "display_name": "Python 3",
   "language": "python",
   "name": "python3"
  },
  "language_info": {
   "codemirror_mode": {
    "name": "ipython",
    "version": 3
   },
   "file_extension": ".py",
   "mimetype": "text/x-python",
   "name": "python",
   "nbconvert_exporter": "python",
   "pygments_lexer": "ipython3",
   "version": "3.6.3"
  }
 },
 "nbformat": 4,
 "nbformat_minor": 2
}
