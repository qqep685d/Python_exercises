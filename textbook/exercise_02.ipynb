{
 "cells": [
  {
   "cell_type": "markdown",
   "metadata": {},
   "source": [
    "# Python exercises\n",
    "\n",
    "## 難易度\n",
    "入門レベル: プログラミングを初めて勉強する \n",
    "\n",
    "## 目標\n",
    "- \n",
    "\n",
    "## 内容\n",
    "1. [Exercise 1](#ex1)\n",
    "1. [Exercise 2](#ex2)\n",
    "1. [Exercise 3](#ex3)\n",
    "1. [Exercise 4](#ex4)"
   ]
  },
  {
   "cell_type": "markdown",
   "metadata": {},
   "source": [
    "## Exercise 1<a name=\"ex1\"></a>\n",
    "\n",
    "次のプログラムを入力して実行してください。   \n",
    "（_実行方法は、「Shift + Enter」 または 「Ctrl (control) + Enter」 です。_）\n",
    "\n",
    "```python3\n",
    "print('You', 'are', 'a', 'programmer')\n",
    "```"
   ]
  },
  {
   "cell_type": "code",
   "execution_count": null,
   "metadata": {},
   "outputs": [],
   "source": []
  }
 ],
 "metadata": {
  "kernelspec": {
   "display_name": "Python 3",
   "language": "python",
   "name": "python3"
  },
  "language_info": {
   "codemirror_mode": {
    "name": "ipython",
    "version": 3
   },
   "file_extension": ".py",
   "mimetype": "text/x-python",
   "name": "python",
   "nbconvert_exporter": "python",
   "pygments_lexer": "ipython3",
   "version": "3.6.3"
  }
 },
 "nbformat": 4,
 "nbformat_minor": 2
}
