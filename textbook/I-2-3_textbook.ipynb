{
 "cells": [
  {
   "cell_type": "markdown",
   "metadata": {},
   "source": [
    "![ゲノム解析のためのPython練習帳](https://github.com/qqep685d/MyIMGs/blob/master/logo/python_exercises.png?raw=true)\n",
    "\n",
    "[目次ページ](https://github.com/qqep685d/Python_exercises)に戻る"
   ]
  },
  {
   "cell_type": "markdown",
   "metadata": {},
   "source": [
    "# I.2.3 リスト、タプル、ディクショナリ\n",
    "\n",
    "「[I.2.2 文字列、数値、真偽値](https://colab.research.google.com/github/qqep685d/Python_exercises/blob/master/textbook/I-2-2_textbook.ipynb)」までは、1つの変数に1つの値が入ったデータについて勉強してきましたが、今回は1つの変数に複数の値を入れることが可能なデータ型（**リスト**や**タプル**、**ディクショナリ（辞書）**）について勉強します。\n",
    "\n",
    "## 目標\n",
    "- リスト、タプル、ディクショナリのそれぞれの特徴を知る\n",
    "\n",
    "## テキスト\n",
    "- Example 1. [...](#ex1)\n",
    "- Example 2. [...](#ex2)\n",
    "- Example 3. [...](#ex3)\n",
    "- Example 4. [...](#ex4)\n",
    "\n",
    "## 練習問題\n",
    "- Practice 1. [リストを並べ替える](#pr1)\n",
    "- Practice 2. [ある要素がリストにあるか調べる](#pr2)\n",
    "- Practice 3. [ある要素がディクショナリのキーに含まれるか調べる](#pr3)\n",
    "- Practice 4. [ある要素がディクショナリの値に含まれるか調べる](#pr4)\n",
    "- Practice 5. [入れ子構造のディクショナリ](#pr5)"
   ]
  },
  {
   "cell_type": "markdown",
   "metadata": {},
   "source": [
    "---\n",
    "## Example 1. <a name=\"ex1\"></a>\n",
    "\n"
   ]
  },
  {
   "cell_type": "code",
   "execution_count": 2,
   "metadata": {},
   "outputs": [
    {
     "data": {
      "text/plain": [
       "{'a': 3, 'b': 2, 'c': 5}"
      ]
     },
     "execution_count": 2,
     "metadata": {},
     "output_type": "execute_result"
    }
   ],
   "source": []
  },
  {
   "cell_type": "markdown",
   "metadata": {},
   "source": [
    "---\n",
    "## Example 2: <a name=\"ex2\"></a>\n"
   ]
  },
  {
   "cell_type": "markdown",
   "metadata": {},
   "source": [
    "---\n",
    "## Example 3: <a name=\"ex3\"></a>\n"
   ]
  },
  {
   "cell_type": "markdown",
   "metadata": {},
   "source": [
    "---\n",
    "## Example 4: <a name=\"ex4\"></a>\n"
   ]
  },
  {
   "cell_type": "markdown",
   "metadata": {},
   "source": [
    "---\n",
    "## Practice 1: <a name=\"pr1\"></a>\n"
   ]
  }
 ],
 "metadata": {
  "kernelspec": {
   "display_name": "Python 3",
   "language": "python",
   "name": "python3"
  },
  "language_info": {
   "codemirror_mode": {
    "name": "ipython",
    "version": 3
   },
   "file_extension": ".py",
   "mimetype": "text/x-python",
   "name": "python",
   "nbconvert_exporter": "python",
   "pygments_lexer": "ipython3",
   "version": "3.7.2"
  }
 },
 "nbformat": 4,
 "nbformat_minor": 2
}
