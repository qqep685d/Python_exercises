{
 "cells": [
  {
   "cell_type": "markdown",
   "metadata": {},
   "source": [
    "![ゲノム解析のためのPython練習帳](https://github.com/qqep685d/MyIMGs/blob/master/logo/python_exercises.png?raw=true)\n",
    "\n",
    "[目次ページ](https://github.com/qqep685d/Python_exercises)に戻る"
   ]
  },
  {
   "cell_type": "markdown",
   "metadata": {},
   "source": [
    "# I.2.3 リスト、タプル、ディクショナリ\n",
    "\n",
    "「[I.2.2 文字列、数値、真偽値](https://colab.research.google.com/github/qqep685d/Python_exercises/blob/master/textbook/I-2-2_textbook.ipynb)」までは、1つの変数に1つの値が入ったデータについて勉強してきましたが、今回は1つの変数に複数の値を入れることが可能なデータ型（**リスト**や**タプル**、**ディクショナリ（辞書）**）について勉強します。\n",
    "\n",
    "## 目標\n",
    "- リスト、タプル、ディクショナリのそれぞれの特徴を知る\n",
    "\n",
    "## テキスト\n",
    "- Example 1. [リスト](#ex1)\n",
    "- Example 2. [...](#ex2)\n",
    "- Example 3. [...](#ex3)\n",
    "- Example 4. [...](#ex4)\n",
    "\n",
    "## 練習問題\n",
    "- Practice 1. [リストを並べ替える](#pr1)\n",
    "- Practice 2. [ある要素がリストにあるか調べる](#pr2)\n",
    "- Practice 3. [ある要素がディクショナリのキーに含まれるか調べる](#pr3)\n",
    "- Practice 4. [ある要素がディクショナリの値に含まれるか調べる](#pr4)\n",
    "- Practice 5. [入れ子構造のディクショナリ](#pr5)"
   ]
  },
  {
   "cell_type": "markdown",
   "metadata": {},
   "source": [
    "---\n",
    "## Example 1. リスト<a name=\"ex1\"></a>\n",
    "\n",
    "**リスト** は、下のプログラムのように、複数の値をもつことが可能なデータ型です。  \n",
    "下のプログラムでは、変数`mydata`に9個の値が入っています。\n",
    "\n",
    "`[]`に値を入れるとリストデータになります。  \n",
    "値と値の間はカンマ`,`で区切ります。\n",
    "\n",
    "それぞれの値は、**インデックス（添え字）**と呼ばれる数字を指定することで、取得可能です。  \n",
    "```python\n",
    "# 書き方\n",
    "変数名[インデックス]\n",
    "```\n",
    "それぞれの値のインデックスは、最初の値が`[0]`、次の値が`[1]`、その次が`[2]`...です。<sup>[1](#annotation1)</sup>  \n",
    "\n",
    "<a name=\"annotation1\"><sup>1</sup></a> Pythonでは、データの数え方を「1」からではなく「0」から始め、0番目、1番目、2番目...とカウントします。\n",
    "\n",
    "<img src=\"https://github.com/qqep685d/MyIMGs/blob/master/illustration/list_index.png?raw=true\" width=\"400px\">"
   ]
  },
  {
   "cell_type": "code",
   "execution_count": 6,
   "metadata": {},
   "outputs": [
    {
     "name": "stdout",
     "output_type": "stream",
     "text": [
      "<class 'list'>\n",
      "A\n",
      "C\n"
     ]
    }
   ],
   "source": [
    "mydata = ['A', 'T', 'G', 'A', 'C', 'T', 'T', 'G', 'A']   # リストを作成\n",
    "\n",
    "print(type(mydata))  #  データ型を確認\n",
    "\n",
    "print(mydata[0])  #  最初（0番目）の値を取得\n",
    "print(mydata[4])  #  \"4番目\"の値「C」を取得"
   ]
  },
  {
   "cell_type": "markdown",
   "metadata": {},
   "source": [
    "### 補足\n",
    "\n",
    "次のようにリストの後ろからカウントして値を取得することも可能です。  \n",
    "この場合、`[-1]`番目からカウントします（`[-0]`番目はありません）。\n",
    "\n",
    "<img src=\"https://github.com/qqep685d/MyIMGs/blob/master/illustration/list_index2.png?raw=true\" width=\"400px\">\n",
    "\n",
    "また、まとめて値を取得することも可能です。 \n",
    "```python\n",
    "#　書き方\n",
    "変数名[start:end]\n",
    "```\n",
    "\n",
    "この機能は**スライス**と呼ばれています。  \n",
    "スライスで指定する値は、値と値の間にある仕切りに番号が振られているようなイメージです。\n",
    "\n",
    "<img src=\"https://github.com/qqep685d/MyIMGs/blob/master/illustration/list_slice.png?raw=true\" width=\"400px\">\n",
    "\n"
   ]
  },
  {
   "cell_type": "code",
   "execution_count": 5,
   "metadata": {},
   "outputs": [
    {
     "name": "stdout",
     "output_type": "stream",
     "text": [
      "A\n",
      "['G', 'A', 'C', 'T', 'T']\n"
     ]
    }
   ],
   "source": [
    "mydata = ['A', 'T', 'G', 'A', 'C', 'T', 'T', 'G', 'A']   # リストを作成\n",
    "\n",
    "print(mydata[-6])  #  後ろから6番目の値を取得\n",
    "print(mydata[2:7])  #  \"2番目\"から\"6番目\"の値をまとめて取得"
   ]
  },
  {
   "cell_type": "markdown",
   "metadata": {},
   "source": [
    "---\n",
    "## Example 2: <a name=\"ex2\"></a>\n"
   ]
  },
  {
   "cell_type": "markdown",
   "metadata": {},
   "source": [
    "---\n",
    "## Example 3: <a name=\"ex3\"></a>\n"
   ]
  },
  {
   "cell_type": "markdown",
   "metadata": {},
   "source": [
    "---\n",
    "## Example 4: <a name=\"ex4\"></a>\n"
   ]
  },
  {
   "cell_type": "markdown",
   "metadata": {},
   "source": [
    "---\n",
    "## Practice 1: <a name=\"pr1\"></a>\n",
    "\n",
    "次のリストを、アルファベット順に並べ替え、前から\"2番目\"（Pythonでの2番目）の値を取得してください。\n",
    "\n",
    "\n",
    "```python\n",
    "fruits = ['orange', 'grape', 'apple', 'peach', 'lemon']\n",
    "```\n",
    "\n",
    "参照: [Example 1. リスト](#ex1)  \n",
    "\n",
    "ヒント: `sort()`または`sorted()`を使う"
   ]
  },
  {
   "cell_type": "code",
   "execution_count": null,
   "metadata": {},
   "outputs": [],
   "source": []
  }
 ],
 "metadata": {
  "kernelspec": {
   "display_name": "Python 3",
   "language": "python",
   "name": "python3"
  },
  "language_info": {
   "codemirror_mode": {
    "name": "ipython",
    "version": 3
   },
   "file_extension": ".py",
   "mimetype": "text/x-python",
   "name": "python",
   "nbconvert_exporter": "python",
   "pygments_lexer": "ipython3",
   "version": "3.7.2"
  }
 },
 "nbformat": 4,
 "nbformat_minor": 2
}
