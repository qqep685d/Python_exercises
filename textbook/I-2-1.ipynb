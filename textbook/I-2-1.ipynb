{
 "cells": [
  {
   "cell_type": "markdown",
   "metadata": {},
   "source": [
    "![ゲノム解析のためのPython練習帳](https://github.com/qqep685d/MyIMGs/blob/master/logo/python_exercises.png?raw=true)\n",
    "\n",
    "[目次ページ](https://github.com/qqep685d/Python_exercises)に戻る"
   ]
  },
  {
   "cell_type": "markdown",
   "metadata": {},
   "source": [
    "# I-2-1. 変数、データ型\n",
    "今回は、プログラミングでは非常によく使う **変数** と呼ばれるものについて勉強します。  \n",
    "加えて、データの種類（**データ型**）についても勉強します。\n",
    "\n",
    "## 目標\n",
    "- 変数を使えるようになる\n",
    "- データ型を理解する\n",
    "\n",
    "## 練習内容\n",
    "1. Exercise 1: [変数を使ってみる1](#ex1)\n",
    "1. Exercise 2: [変数を使ってみる2](#ex2)\n",
    "1. Exercise 3: [変数を更新する](#ex3)\n",
    "1. Exercise 4: [データ型を調べる](#ex4)\n",
    "1. Exercise 5: [データ型を変換する](#ex5)\n",
    "1. Exercise 6: [文字列の足し算](#ex6)"
   ]
  },
  {
   "cell_type": "markdown",
   "metadata": {},
   "source": [
    "---\n",
    "## Exercise 1: 変数を使ってみる1<a name=\"ex1\"></a>\n",
    "\n",
    "プログラム中では、データに **変数** と呼ばれる名前を与え、必要な時にデータを呼び出すことが可能です。  \n",
    "変数=箱（入れ物）のようなイメージです。  \n",
    "\n",
    "<img src=\"https://github.com/qqep685d/MyIMGs/blob/master/illustration/about_variable.png?raw=true\" width=\"400px\">\n",
    "\n",
    "次のプログラムを実行してみてください。"
   ]
  },
  {
   "cell_type": "code",
   "execution_count": null,
   "metadata": {},
   "outputs": [],
   "source": [
    "number = 123   # 変数「number」に値「123」を代入\n",
    "print(number)   # 変数「number」の値を出力\n",
    "print('number') # 文字列「number」を出力"
   ]
  },
  {
   "cell_type": "markdown",
   "metadata": {},
   "source": [
    "### 解説\n",
    "\n",
    "コード内のコメントのとおり、1行目で変数`number`に値`123`を **代入** しています。  \n",
    "__注意: `変数 = 値`は、右辺の値を左辺の変数に「代入」するという意味です。数式（等式）の「イコール」の意味とは異なります。__\n",
    "\n",
    "次に、2行目で、`print()`には変数名を渡して、変数に入れた値を取り出しています。  \n",
    "\n",
    "`print(number)`により、<u>「number」という文字列ではなく、「123」という数値が出力される</u>点に注意してください。  \n",
    "代入以後であれば、変数名を指定するだけでそこに入っている値を利用することが可能です。\n",
    "\n",
    "もし「number」という文字列を出力したい場合、3行目のように、シングルクオテーション`'`（またはダブルクオテーション`\"`）を使い、`print('number')`とする必要があります（「[I-1-2. 簡単なプログラム Hello world を書いてみる](https://colab.research.google.com/github/qqep685d/Python_exercises/blob/master/textbook/I-1-2.ipynb#ex1)」を参照）。\n",
    "\n",
    "<img src=\"https://github.com/qqep685d/MyIMGs/blob/master/illustration/use_variable.png?raw=true\" width=\"400px\">\n"
   ]
  },
  {
   "cell_type": "markdown",
   "metadata": {},
   "source": [
    "### 変数名について\n",
    "\n",
    "変数名は任意の名前を付けることが可能です。\n",
    "\n",
    "使える文字は、\n",
    "- 半角アルファベット: a ~ z, A ~ Z\n",
    "- 半角数字: 0 ~ 9\n",
    "- アンダーバー `_`\n",
    "\n",
    "**ピリオド `.`やカンマ`,`, ハイフン`-`, プラス`+`, イコール`=`などの半角記号は使えません。**\n",
    "\n",
    "また、これらの変数名は禁止されています。\n",
    "- 数字から始まる名前\n",
    "- 以下の予約語と同じ名前  \n",
    "    `False`, `None`, `True`, `and`, `as`, `assert`, `break`, `class`, `continue`, `def`, `del`, `elif`, `else`, `except`, `finally`, `for`, `from`, `global`, `if`, `import`, `in`, `is`, `lambda`, `nonlocal`, `not`, `or`, `pass`, `raise`, `return`, `try`, `while`, `with`, `yield`\n",
    "    \n",
    "禁止されていませんが、関数名と同じ変数名も避けたほうがいいです。  \n",
    "使用すると、それ以降その関数が使えなくなります。  \n",
    "- `print`, `len`, `list`など\n"
   ]
  },
  {
   "cell_type": "markdown",
   "metadata": {},
   "source": [
    "---\n",
    "## Exercise 2: 変数を使ってみる2<a name=\"ex2\"></a>\n",
    "\n",
    "まずは下のセルのプログラムを見てください。  \n",
    "4行とも`print(9 演算子 7)`の形です。\n",
    "\n",
    "もし、すべての`9`を`100`に、すべての`7`を`24`に置き換えたい場合、\n",
    "現状ではそれぞれの数字をひとつずつ変更しなければなりません。\n",
    "\n",
    "変数を使って、より良いプログラムをに変更してみてください。"
   ]
  },
  {
   "cell_type": "code",
   "execution_count": null,
   "metadata": {},
   "outputs": [],
   "source": [
    "print(9 + 7)\n",
    "print(9 - 7)\n",
    "print(9 * 7)\n",
    "print(9 / 7)"
   ]
  },
  {
   "cell_type": "markdown",
   "metadata": {},
   "source": [
    "[解答例](https://github.com/qqep685d/Python_exercises/textbook/example/I-2-1_exercise2.md)"
   ]
  },
  {
   "cell_type": "markdown",
   "metadata": {},
   "source": [
    "---\n",
    "## Exercise 3: 変数を更新する<a name=\"ex3\"></a>\n",
    "\n",
    "次のプログラムのように、変数の値は上書き（更新）することが可能です。"
   ]
  },
  {
   "cell_type": "code",
   "execution_count": null,
   "metadata": {},
   "outputs": [],
   "source": [
    "n = 1  # 初期値\n",
    "print(n)\n",
    "\n",
    "n = 2  # 更新\n",
    "print(n)\n",
    "\n",
    "n = 3  # 更新\n",
    "print(n)"
   ]
  },
  {
   "cell_type": "markdown",
   "metadata": {},
   "source": [
    "上のプログラムは、演算子`+`を使って、次のように書くことも可能です。"
   ]
  },
  {
   "cell_type": "code",
   "execution_count": null,
   "metadata": {},
   "outputs": [],
   "source": [
    "n = 1  # 初期値\n",
    "print(n)\n",
    "\n",
    "n = n + 1  # 更新\n",
    "print(n)\n",
    "\n",
    "n += 1  # 更新\n",
    "print(n)"
   ]
  },
  {
   "cell_type": "markdown",
   "metadata": {},
   "source": [
    "### 解説\n",
    "\n",
    "Exercise 1の解説でも書きましたが、   \n",
    "__`変数 = 値`は、右辺の値を左辺の変数に「代入」するという意味です。数式（等式）の「イコール」の意味とは異なります。__  \n",
    "\n",
    "上のプログラムの`n = n + 1`は、「右辺の計算結果をnに代入する」といった意味になります。\n",
    "\n",
    "`n += 1`は`n = n + 1`の別の書き方です。  \n",
    "「右辺の値をnの値に追加する」といった意味になります。  "
   ]
  },
  {
   "cell_type": "markdown",
   "metadata": {},
   "source": [
    "### チャレンジ問題\n",
    "\n",
    "次の計算手順のプログラムを書いてください。  \n",
    "「最終の計算結果が必ず1になる」計算プログラムです。\n",
    "1. 初期値の数字を設定する\n",
    "1. その数字に４を足す\n",
    "1. 次に、２をかける\n",
    "1. 次に、６を引く\n",
    "1. 次に、２で割る\n",
    "1. 最後に、初期値を引く"
   ]
  },
  {
   "cell_type": "code",
   "execution_count": null,
   "metadata": {},
   "outputs": [],
   "source": []
  },
  {
   "cell_type": "markdown",
   "metadata": {},
   "source": [
    "[解答例](https://github.com/qqep685d/Python_exercises/textbook/example/I-2-1_exercise3_ch.md)"
   ]
  },
  {
   "cell_type": "markdown",
   "metadata": {},
   "source": [
    "---\n",
    "## Exercise 4: データ型を調べる<a name=\"ex4\"></a>"
   ]
  },
  {
   "cell_type": "markdown",
   "metadata": {},
   "source": [
    "---\n",
    "## Exercise 5: データ型を変換する<a name=\"ex5\"></a>"
   ]
  },
  {
   "cell_type": "markdown",
   "metadata": {},
   "source": [
    "---\n",
    "## Exercise 6: 文字列の足し算<a name=\"ex5\"></a>"
   ]
  },
  {
   "cell_type": "code",
   "execution_count": null,
   "metadata": {},
   "outputs": [],
   "source": []
  }
 ],
 "metadata": {
  "kernelspec": {
   "display_name": "Python 3",
   "language": "python",
   "name": "python3"
  },
  "language_info": {
   "codemirror_mode": {
    "name": "ipython",
    "version": 3
   },
   "file_extension": ".py",
   "mimetype": "text/x-python",
   "name": "python",
   "nbconvert_exporter": "python",
   "pygments_lexer": "ipython3",
   "version": "3.6.3"
  }
 },
 "nbformat": 4,
 "nbformat_minor": 2
}
