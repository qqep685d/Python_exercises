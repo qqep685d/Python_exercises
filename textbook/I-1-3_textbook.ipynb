{
 "cells": [
  {
   "cell_type": "markdown",
   "metadata": {},
   "source": [
    "![ゲノム解析のためのPython練習帳](https://github.com/qqep685d/MyIMGs/blob/master/logo/python_exercises.png?raw=true)\n",
    "\n",
    "[目次ページ](https://github.com/qqep685d/Python_exercises)に戻る"
   ]
  },
  {
   "cell_type": "markdown",
   "metadata": {},
   "source": [
    "# I.1.3 プログラムにコメント（メモ）を書き込む\n",
    "\n",
    "今回は、いくつか実際にプログラムを書いてみましょう。\n",
    "\n",
    "## 目標\n",
    "- プログラム中にメモ書きする方法を覚える\n",
    "\n",
    "## 練習内容\n",
    "1. Example 1: [プログラム中にメモ書きを入れる](#ex1)\n",
    "1. Example 2: [プログラム中に複数行のメモ書きを入れる](#ex2)\n"
   ]
  },
  {
   "cell_type": "markdown",
   "metadata": {},
   "source": [
    "---\n",
    "## Example 1: プログラム中にメモ書きを入れる<a name=\"ex1\"></a>\n",
    "\n",
    "下のセルのプログラムを実行してみてください。\n"
   ]
  },
  {
   "cell_type": "code",
   "execution_count": null,
   "metadata": {},
   "outputs": [],
   "source": [
    "print(2 * 3)   # 計算される\n",
    "print('2 * 3')  # 文字列として扱われる"
   ]
  },
  {
   "cell_type": "markdown",
   "metadata": {},
   "source": [
    "### 解説\n",
    "プログラムはハッシュ記号`#`より後の部分を、メモ書き（**コメント**）として扱い、スキップします。  \n",
    "よく使うので覚えておいてください。\n",
    "\n",
    "以下のように、不要な行を「コメント化」して、プログラムにスキップさせるといったこともよく行います。  \n",
    "このコメント化のことを **コメントアウト** と言います。\n",
    "\n",
    "```python\n",
    "print(1)\n",
    "#print(2)\n",
    "print('two')\n",
    "print(3)\n",
    "```"
   ]
  },
  {
   "cell_type": "markdown",
   "metadata": {},
   "source": [
    "---\n",
    "## Example 2: プログラム中に複数行のメモ書きを入れる<a name=\"ex2\"></a>\n",
    "ハッシュ記号`#`を使ったコメントアウトは、1行中の`#`より後の部分のみがコメント化されます。\n",
    "\n",
    "複数行にわたるコメントを書きたい場合、下のセルのようにします。  \n",
    "シングルクオテーション3つ`'''`（またはダブルクオテーション3つ`\"\"\"`）で挟まれた部分がコメントとして扱われます。"
   ]
  },
  {
   "cell_type": "code",
   "execution_count": 7,
   "metadata": {},
   "outputs": [
    {
     "name": "stdout",
     "output_type": "stream",
     "text": [
      "wheat\n",
      "bread wheat\n"
     ]
    }
   ],
   "source": [
    "print('wheat')\n",
    "\n",
    "'''\n",
    "コムギ（小麦）はイネ科コムギ属に属する一年草の植物。\n",
    "一般的にはパンコムギ（学名: Triticum aestivum）を指すが、\n",
    "広義にはクラブコムギ（学名: Triticum compactum）やデュラムコムギ（学名: Triticum durum）など\n",
    "コムギ属（学名: Triticum）の植物全般を指す。\n",
    "[Wikipediaより抜粋]\n",
    "'''\n",
    "\n",
    "print('bread wheat')"
   ]
  }
 ],
 "metadata": {
  "kernelspec": {
   "display_name": "Python 3",
   "language": "python",
   "name": "python3"
  },
  "language_info": {
   "codemirror_mode": {
    "name": "ipython",
    "version": 3
   },
   "file_extension": ".py",
   "mimetype": "text/x-python",
   "name": "python",
   "nbconvert_exporter": "python",
   "pygments_lexer": "ipython3",
   "version": "3.6.3"
  }
 },
 "nbformat": 4,
 "nbformat_minor": 2
}
