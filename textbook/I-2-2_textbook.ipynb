{
 "cells": [
  {
   "cell_type": "markdown",
   "metadata": {},
   "source": [
    "![ゲノム解析のためのPython練習帳](https://github.com/qqep685d/MyIMGs/blob/master/logo/python_exercises.png?raw=true)\n",
    "\n",
    "[目次ページ](https://github.com/qqep685d/Python_exercises)に戻る"
   ]
  },
  {
   "cell_type": "markdown",
   "metadata": {},
   "source": [
    "# I.2.2 文字列、数値、真偽値\n",
    "今回は、いくつかあるデータ型のうち、**文字列型**や**整数型**、**浮動小数点数型**、**真偽値型** について少し詳しく勉強します。  \n",
    "\n",
    "## 目標\n",
    "- 文字列型と数値（整数型、浮動小数点数型）の違いを知る\n",
    "- 整数型と浮動小数点数型の違いを知る\n",
    "- 真偽値型とは何か知る\n",
    "\n",
    "## テキスト\n",
    "- Example 1. [文字列型と数値の違い](#ex1)\n",
    "- Example 2. [文字列を繋げる](#ex2)\n",
    "- Example 3. [整数型と浮動小数点数型](#ex3)\n",
    "- Example 4. [真偽値型](#ex4)\n",
    "\n",
    "## 練習問題\n",
    "- Practice 1. [正しく計算できないバグを直す](#pr1)\n",
    "- Practice 2. [単純反復配列を作る](#pr2)\n",
    "- Practice 3. [四捨五入](#pr3)\n",
    "- Practice 4. [True/Falseの計算](#pr3)"
   ]
  },
  {
   "cell_type": "markdown",
   "metadata": {},
   "source": [
    "---\n",
    "## Example 1. 文字列型と数値の違い<a name=\"ex1\"></a>\n",
    "\n",
    "文字列型と数値（整数型、浮動小数点数型）は、どちらも`print()`で出力すると同じように見えますが、Pythonは異なるものとして認識しています。  \n",
    "その違いが一番顕著に表れるのは演算子を使った計算をした時です。  \n",
    "\n",
    "以下のプログラムを実行してみてください。\n"
   ]
  },
  {
   "cell_type": "code",
   "execution_count": null,
   "metadata": {},
   "outputs": [],
   "source": [
    "# 数値（整数型）\n",
    "num1 = 123\n",
    "print(type(num1)) # データ型を確認\n",
    "print(1 + num1) # 計算してみる\n",
    "\n",
    "print('------')\n",
    "\n",
    "# 文字列型\n",
    "num2 = '123'\n",
    "print(type(num2)) # データ型を確認\n",
    "print(1 + num2) # 計算してみる\n"
   ]
  },
  {
   "cell_type": "markdown",
   "metadata": {},
   "source": [
    "### 解説\n",
    "\n",
    "文字列型は`print(num2 + 1)`でエラーがでます。  \n",
    "エラー文`TypeError: unsupported operand type(s) for +: 'int' and 'str'`が述べているように、「文字列 + 数値」では実行できません。  "
   ]
  },
  {
   "cell_type": "markdown",
   "metadata": {},
   "source": [
    "---\n",
    "## Example 2: 文字列を繋げる<a name=\"ex2\"></a>\n",
    "\n",
    "Example 1で実行してもらったように、「文字列 + 数値」ではエラーが生じました。\n",
    "\n",
    "では、「文字列 + 文字列」にするとどうなるでしょうか？  \n",
    "次のプログラムを書いて実行してみてください。\n",
    "\n",
    "```python\n",
    "# 以下の<文字列1>と<文字列2>には好きな文字列を入れてください。\n",
    "print(<文字列1>　+ <文字列2>)\n",
    "\n",
    "```\n"
   ]
  },
  {
   "cell_type": "code",
   "execution_count": null,
   "metadata": {},
   "outputs": [],
   "source": []
  },
  {
   "cell_type": "markdown",
   "metadata": {},
   "source": [
    "[解答例](https://github.com/qqep685d/Python_exercises/blob/master/textbook/answer/I-2-2_example2.md)"
   ]
  },
  {
   "cell_type": "markdown",
   "metadata": {},
   "source": [
    "---\n",
    "## Example 3: 整数型と浮動小数点数型<a name=\"ex3\"></a>\n",
    "\n",
    "次のプログラムを実行してみてください。"
   ]
  },
  {
   "cell_type": "code",
   "execution_count": null,
   "metadata": {},
   "outputs": [],
   "source": [
    "print(2.71828 * 4)         # 小数点型の計算\n",
    "print(int(2.71828))       # 小数点型を整数型に変換\n",
    "print(int(2.71828) * 4) # 変換後の整数で計算"
   ]
  },
  {
   "cell_type": "markdown",
   "metadata": {},
   "source": [
    "### 解説\n",
    "\n",
    "1行目は正しく計算されているようです。  \n",
    "2行目で、小数点型を整数型に変換すると、小数点以下は切り捨てた数値（整数）が得られます。    \n",
    "それを使った計算（3行目）でももちろん小数点以下切り捨て後の数値が使われます。\n",
    "\n",
    "もし小数点以下を四捨五入したい場合、`round()`関数を使います。\n",
    "```python\n",
    "print(round(2.71828))\n",
    "```"
   ]
  },
  {
   "cell_type": "markdown",
   "metadata": {},
   "source": [
    "---\n",
    "## Example 4: 真偽値型<a name=\"ex4\"></a>\n",
    "\n",
    "実際に自身のプログラム内で使う機会は少ないかと思いますが、**真偽値型**というものも覚えておいてください。\n",
    "\n",
    "「真偽値型」は`True`または`False`の二値（バイナリ）を値としてとる型です。  \n",
    "Trueは「1」で、Falseは「0」に相当します。  \n",
    "\n",
    "次のプログラムを実行してください。  \n",
    "また、`signal = False`の部分を`signal = True`に変更してみてください。\n",
    "\n",
    "`if-else文`を使っていますが、条件分岐これについては「[I.2.5 if構文](https://colab.research.google.com/github/qqep685d/Python_exercises/blob/master/textbook/I-2-5_textbook.ipynb)」で勉強します。"
   ]
  },
  {
   "cell_type": "code",
   "execution_count": null,
   "metadata": {},
   "outputs": [],
   "source": [
    "signal = False\n",
    "\n",
    "if signal:  # signalが「True」のとき\n",
    "    print('signal is detected')\n",
    "    \n",
    "else:  # signalが「False」のとき\n",
    "    print('no signal')"
   ]
  },
  {
   "cell_type": "markdown",
   "metadata": {},
   "source": [
    "---\n",
    "## Practice 1: 正しく計算できないバグを直す<a name=\"pr1\"></a>\n",
    "\n",
    "以下のプログラムの「足し算ができないバグ」を修正し、正しい結果「999」が得られるようにしてください。  \n",
    "\n",
    "参照: [Example 1. 文字列型と数値の違い](#ex1), [Example 2. 文字列を繋げる](#ex2)"
   ]
  },
  {
   "cell_type": "code",
   "execution_count": null,
   "metadata": {},
   "outputs": [],
   "source": [
    "num1 = '123'\n",
    "num2 = '876'\n",
    "\n",
    "print(num1 + num2)"
   ]
  },
  {
   "cell_type": "markdown",
   "metadata": {},
   "source": [
    "---\n",
    "## Practice 2: 単純反復配列<sup>[1](#annotation1)</sup>を作る<a name=\"pr2\"></a>\n",
    "\n",
    "以下のプログラムを少し変更して、「AT」が24回繰り返されるプログラムにしてください。  \n",
    "\n",
    "<a name=\"annotation1\"><sup>1</sup></a> 「単純反復配列（Simple Sequence Repeat; SSR）」とは、数塩基の配列が繰り返される配列のことで、「マイクロサテライト」とも言われる。\n",
    "\n",
    "参照: [Example 2. 文字列を繋げる](#ex2)"
   ]
  },
  {
   "cell_type": "code",
   "execution_count": null,
   "metadata": {},
   "outputs": [],
   "source": [
    "at = 'AT'\n",
    "print(at)"
   ]
  },
  {
   "cell_type": "markdown",
   "metadata": {},
   "source": [
    "---\n",
    "## Practice 3: 四捨五入<a name=\"pr3\"></a>\n",
    "\n",
    "変数`num`に入っている数値を小数点第2位で四捨五入するプログラム文を追加してください。\n",
    "\n",
    "参照: [Example 3. 整数型と浮動小数点数型](#ex3)"
   ]
  },
  {
   "cell_type": "code",
   "execution_count": null,
   "metadata": {},
   "outputs": [],
   "source": [
    "num = 25 / 7\n",
    "print(num)"
   ]
  },
  {
   "cell_type": "markdown",
   "metadata": {},
   "source": [
    "---\n",
    "## Practice 4: True/Falseの計算<a name=\"pr4\"></a>\n",
    "\n",
    "次のプログラムはどうなるでしょうか？\n",
    "\n",
    "```python\n",
    "calc = (True + True) * False - (True + True + False) * (True - True) + False\n",
    "print(calc)\n",
    "```\n",
    "\n",
    "参照: [Example 4. 真偽値型](#ex4)"
   ]
  },
  {
   "cell_type": "code",
   "execution_count": null,
   "metadata": {},
   "outputs": [],
   "source": []
  }
 ],
 "metadata": {
  "kernelspec": {
   "display_name": "Python 3",
   "language": "python",
   "name": "python3"
  },
  "language_info": {
   "codemirror_mode": {
    "name": "ipython",
    "version": 3
   },
   "file_extension": ".py",
   "mimetype": "text/x-python",
   "name": "python",
   "nbconvert_exporter": "python",
   "pygments_lexer": "ipython3",
   "version": "3.7.2"
  }
 },
 "nbformat": 4,
 "nbformat_minor": 2
}
