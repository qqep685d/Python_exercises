{
 "cells": [
  {
   "cell_type": "markdown",
   "metadata": {},
   "source": [
    "![ゲノム解析のためのPython練習帳](https://github.com/qqep685d/MyIMGs/blob/master/logo/python_exercises.png?raw=true)\n",
    "\n",
    "[目次ページ](https://github.com/qqep685d/Python_exercises)に戻る"
   ]
  },
  {
   "cell_type": "markdown",
   "metadata": {},
   "source": [
    "# I.2.1 変数、データ型\n",
    "今回は、プログラミングでは非常によく使う **変数** と呼ばれるものについて勉強します。  \n",
    "加えて、データの種類（**データ型**）についても勉強します。\n",
    "\n",
    "## 目標\n",
    "- 変数を使えるようになる\n",
    "- データ型を理解する\n",
    "\n",
    "## 練習内容\n",
    "1. Example 1: [変数を使ってみる1](#ex1)\n",
    "1. Example 2: [変数を使ってみる2](#ex2)\n",
    "1. Example 3: [変数を更新する](#ex3)\n",
    "1. Example 4: [データ型を調べる](#ex4)\n",
    "1. Example 5: [データ型を変換する](#ex5)"
   ]
  },
  {
   "cell_type": "markdown",
   "metadata": {},
   "source": [
    "---\n",
    "## Example 1: 変数を使ってみる1<a name=\"ex1\"></a>\n",
    "\n",
    "プログラム中では、データに **変数** と呼ばれる名前を与え、必要な時にデータを呼び出すことが可能です。  \n",
    "変数=箱（入れ物）のようなイメージです。  \n",
    "\n",
    "<img src=\"https://github.com/qqep685d/MyIMGs/blob/master/illustration/about_variable.png?raw=true\" width=\"400px\">\n",
    "\n",
    "次のプログラムを実行してみてください。"
   ]
  },
  {
   "cell_type": "code",
   "execution_count": null,
   "metadata": {},
   "outputs": [],
   "source": [
    "number = 123   # 変数「number」に値「123」を代入\n",
    "print(number)   # 変数「number」の値を出力\n",
    "print('number') # 文字列「number」を出力"
   ]
  },
  {
   "cell_type": "markdown",
   "metadata": {},
   "source": [
    "### 解説\n",
    "\n",
    "コード内のコメントのとおり、1行目で変数`number`に値`123`を **代入** しています。  \n",
    "__注意: `変数 = 値`は、右辺の値を左辺の変数に「代入」するという意味です。数式（等式）の「イコール」の意味とは異なります。__\n",
    "\n",
    "次に、2行目で、`print()`には変数名を渡して、変数に入れた値を取り出しています。  \n",
    "\n",
    "`print(number)`により、<u>「number」という文字列ではなく、「123」という数値が出力される</u>点に注意してください。  \n",
    "代入以後であれば、変数名を指定するだけでそこに入っている値を利用することが可能です。\n",
    "\n",
    "もし「number」という文字列を出力したい場合、3行目のように、シングルクオテーション`'`（またはダブルクオテーション`\"`）を使い、`print('number')`とする必要があります（「[I.1.2 簡単なプログラム Hello world を書いてみる](https://colab.research.google.com/github/qqep685d/Python_exercises/blob/master/textbook/I-1-2_textbook.ipynb#ex1)」を参照）。\n",
    "\n",
    "<img src=\"https://github.com/qqep685d/MyIMGs/blob/master/illustration/use_variable.png?raw=true\" width=\"400px\">\n"
   ]
  },
  {
   "cell_type": "markdown",
   "metadata": {},
   "source": [
    "### 変数名について\n",
    "\n",
    "変数名は任意の名前を付けることが可能です。\n",
    "\n",
    "使える文字は、\n",
    "- 半角アルファベット: a ~ z, A ~ Z\n",
    "- 半角数字: 0 ~ 9\n",
    "- アンダーバー `_`\n",
    "\n",
    "**ピリオド `.`やカンマ`,`, ハイフン`-`, プラス`+`, イコール`=`などの半角記号は使えません。**\n",
    "\n",
    "また、これらの変数名は禁止されています。\n",
    "- 数字から始まる名前\n",
    "- 以下の予約語と同じ名前  \n",
    "    `False`, `None`, `True`, `and`, `as`, `assert`, `break`, `class`, `continue`, `def`, `del`, `elif`, `else`, `except`, `finally`, `for`, `from`, `global`, `if`, `import`, `in`, `is`, `lambda`, `nonlocal`, `not`, `or`, `pass`, `raise`, `return`, `try`, `while`, `with`, `yield`\n",
    "    \n",
    "禁止されていませんが、関数名と同じ変数名も避けたほうがいいです。  \n",
    "使用すると、それ以降その関数が使えなくなります。  \n",
    "- `print`, `len`, `list`など\n"
   ]
  },
  {
   "cell_type": "markdown",
   "metadata": {},
   "source": [
    "---\n",
    "## Example 2: 変数を使ってみる2<a name=\"ex2\"></a>\n",
    "\n",
    "まずは下のセルのプログラムを見てください。  \n",
    "4行とも`print(9 演算子 7)`の形です。\n",
    "\n",
    "もし、すべての`9`を`100`に、すべての`7`を`24`に置き換えたい場合、\n",
    "現状ではそれぞれの数字をひとつずつ変更しなければなりません。\n",
    "\n",
    "変数を使って、より良いプログラムをに変更してみてください。"
   ]
  },
  {
   "cell_type": "code",
   "execution_count": null,
   "metadata": {},
   "outputs": [],
   "source": [
    "print(9 + 7)\n",
    "print(9 - 7)\n",
    "print(9 * 7)\n",
    "print(9 / 7)"
   ]
  },
  {
   "cell_type": "markdown",
   "metadata": {},
   "source": [
    "[解答例](https://github.com/qqep685d/Python_exercises/blob/master/textbook/answer/I-2-1_example2.md)"
   ]
  },
  {
   "cell_type": "markdown",
   "metadata": {},
   "source": [
    "---\n",
    "## Example 3: 変数を更新する<a name=\"ex3\"></a>\n",
    "\n",
    "次のプログラムのように、変数の値は上書き（更新）することが可能です。"
   ]
  },
  {
   "cell_type": "code",
   "execution_count": null,
   "metadata": {},
   "outputs": [],
   "source": [
    "n = 1  # 初期値\n",
    "print(n)\n",
    "\n",
    "n = 2  # 更新\n",
    "print(n)\n",
    "\n",
    "n = 3  # 更新\n",
    "print(n)"
   ]
  },
  {
   "cell_type": "markdown",
   "metadata": {},
   "source": [
    "上のプログラムは、演算子`+`を使って、次のように書くことも可能です。"
   ]
  },
  {
   "cell_type": "code",
   "execution_count": null,
   "metadata": {},
   "outputs": [],
   "source": [
    "n = 1  # 初期値\n",
    "print(n)\n",
    "\n",
    "n = n + 1  # 更新\n",
    "print(n)\n",
    "\n",
    "n += 1  # 更新\n",
    "print(n)"
   ]
  },
  {
   "cell_type": "markdown",
   "metadata": {},
   "source": [
    "### 解説\n",
    "\n",
    "Example 1の解説でも書きましたが、   \n",
    "__`変数 = 値`は、右辺の値を左辺の変数に「代入」するという意味です。数式（等式）の「イコール」の意味とは異なります。__  \n",
    "\n",
    "上のプログラムの`n = n + 1`は、「右辺の計算結果をnに代入する」といった意味になります。\n",
    "\n",
    "`n += 1`は`n = n + 1`の別の書き方です。  \n",
    "「右辺の値をnの値に追加する」といった意味になります。  "
   ]
  },
  {
   "cell_type": "markdown",
   "metadata": {},
   "source": [
    "### チャレンジ問題\n",
    "\n",
    "次の計算手順のプログラムを書いてください。  \n",
    "「最終の計算結果が必ず1になる」計算プログラムです。\n",
    "1. 初期値の数字を設定する\n",
    "1. その数字に４を足す\n",
    "1. 次に、２をかける\n",
    "1. 次に、６を引く\n",
    "1. 次に、２で割る\n",
    "1. 最後に、初期値を引く"
   ]
  },
  {
   "cell_type": "code",
   "execution_count": null,
   "metadata": {},
   "outputs": [],
   "source": []
  },
  {
   "cell_type": "markdown",
   "metadata": {},
   "source": [
    "[解答例](https://github.com/qqep685d/Python_exercises/blob/master/textbook/answer/I-2-1_example3_ch.md)"
   ]
  },
  {
   "cell_type": "markdown",
   "metadata": {},
   "source": [
    "---\n",
    "## Example 4: データ型を調べる<a name=\"ex4\"></a>\n",
    "\n",
    "次は、データの種類（`データ型`）について知りましょう。  \n",
    "データ型というのは、「文字列」や数値（「整数」や「小数点」）などのことです。\n",
    "\n",
    "通常、Pythonプログラムでは、非常に多くの種類のデータ型を扱います。  \n",
    "プログラムを作成する際、このデータ型を考慮していないと、意図しない結果になることもあります。  \n",
    "\n",
    "基本的なものをリストアップすると、\n",
    "- 文字列型 string\n",
    "- 数値\n",
    "    - 整数型 integer\n",
    "    - 浮動小数点数型 float\n",
    "- 真偽値型（True/False） boolean\n",
    "- リスト型 list\n",
    "- タプル型 tuple\n",
    "- ディクショナリ型 dictionary\n",
    "\n",
    "各データ型については、「I.2.2 文字列、数値、真偽値」や「I.2.3 リスト、タプル、ディクショナリ」でより詳しく勉強します。\n",
    "\n",
    "ここでは、データ型を調べる方法を勉強します。  \n",
    "使う関数は`type()`です。\n",
    "\n",
    "次のプログラムを実行してみてください。"
   ]
  },
  {
   "cell_type": "code",
   "execution_count": 1,
   "metadata": {},
   "outputs": [
    {
     "name": "stdout",
     "output_type": "stream",
     "text": [
      "<class 'str'>\n",
      "<class 'int'>\n"
     ]
    }
   ],
   "source": [
    "print( type('123') ) \n",
    "print( type(123) ) "
   ]
  },
  {
   "cell_type": "markdown",
   "metadata": {},
   "source": [
    "`type()`はそれほどよく使う関数ではないので、覚える必要はありません。  \n",
    "データ型を調べる方法がある、ということだけは覚えておいてください。\n",
    "\n",
    "もし必要に迫られた時に、「Python データの種類　調べる方法」といったワードでWeb検索すれば、欲しい情報が得られるでしょう。"
   ]
  },
  {
   "cell_type": "markdown",
   "metadata": {},
   "source": [
    "---\n",
    "## Example 5: データ型を変換する<a name=\"ex5\"></a>\n",
    "\n",
    "プログラムを書いていると、データ型を変換しなければならないときがあります。\n",
    "\n",
    "次のプログラムでは、整数型を文字列型に変換しています。"
   ]
  },
  {
   "cell_type": "code",
   "execution_count": 2,
   "metadata": {},
   "outputs": [
    {
     "name": "stdout",
     "output_type": "stream",
     "text": [
      "<class 'int'>\n",
      "<class 'str'>\n"
     ]
    }
   ],
   "source": [
    "num = 123\n",
    "print( type(num) ) \n",
    "\n",
    "num = str(num)\n",
    "print( type(num) ) "
   ]
  },
  {
   "cell_type": "markdown",
   "metadata": {},
   "source": [
    "### 解説\n",
    "最初は変数`num`に整数を代入しています。  \n",
    "`num = str(num)`で「整数型」を「文字列型」に変換し、変数`num`に再代入しています。\n",
    "\n",
    "おもなデータ型の変換は、これらの関数を使います。\n",
    "- 文字列型への変換: `str()`\n",
    "- 整数型への変換: `int()`\n",
    "- 浮動小数点数型への変換: `float()`\n",
    "- 真偽値型への変換: `bool()`\n",
    "- リスト型への変換: `list()`\n",
    "- タプル型への変換: `tuple()`\n",
    "- ディクショナリ型への変換: `dict()`"
   ]
  },
  {
   "cell_type": "markdown",
   "metadata": {},
   "source": [
    "### チャレンジ問題\n",
    "\n",
    "次のプログラムは、データ型が適切でないため、上手く動きません。  \n",
    "「データ型の変換」する関数を使い、プログラムを直してください。"
   ]
  },
  {
   "cell_type": "code",
   "execution_count": 29,
   "metadata": {},
   "outputs": [
    {
     "name": "stdout",
     "output_type": "stream",
     "text": [
      "452.16\n"
     ]
    }
   ],
   "source": [
    "# 円の面積を求める\n",
    "\n",
    "r = '12'       # 半径\n",
    "pi = '3.14'  # 円周率π\n",
    "\n",
    "S = r * r * pi  # 面積 \n",
    "\n",
    "print(S)"
   ]
  },
  {
   "cell_type": "markdown",
   "metadata": {},
   "source": [
    "[解答例](https://github.com/qqep685d/Python_exercises/blob/master/textbook/answer/I-2-1_example5_ch.md)"
   ]
  },
  {
   "cell_type": "code",
   "execution_count": null,
   "metadata": {},
   "outputs": [],
   "source": []
  }
 ],
 "metadata": {
  "kernelspec": {
   "display_name": "Python 3",
   "language": "python",
   "name": "python3"
  },
  "language_info": {
   "codemirror_mode": {
    "name": "ipython",
    "version": 3
   },
   "file_extension": ".py",
   "mimetype": "text/x-python",
   "name": "python",
   "nbconvert_exporter": "python",
   "pygments_lexer": "ipython3",
   "version": "3.6.3"
  }
 },
 "nbformat": 4,
 "nbformat_minor": 2
}
