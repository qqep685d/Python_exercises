{
 "cells": [
  {
   "cell_type": "markdown",
   "metadata": {},
   "source": [
    "# ゲノム情報解析のためのPythonトレーニング"
   ]
  },
  {
   "cell_type": "markdown",
   "metadata": {},
   "source": [
    "対象レベルの目安は以下のとおりです。\n",
    "\n",
    "\n"
   ]
  },
  {
   "cell_type": "markdown",
   "metadata": {},
   "source": [
    "# 目次\n",
    "\n",
    "## I. ファースト・ステップ\n",
    "\n",
    "### 1. Python入門\n",
    "1. プログラムを実行してみる\n",
    "1. 簡単なプログラム`Hello world`を書いてみる\n",
    "1. プログラムにコメント（メモ）を書き込む\n",
    "\n",
    "### 2. Python基礎\n",
    "1. Print()\n",
    "1. 変数とデータ型\n",
    "1. 文字列、数値\n",
    "1. リスト、タプル、ディクショナリ\n",
    "1. 関数\n",
    "1. ライブラリ\n",
    "1. オブジェクト\n",
    "1. ファイル入出力\n",
    "\n",
    "## II. セカンド・ステップ\n",
    "\n",
    "### 1. テキストファイル処理\n",
    "\n",
    "### 2. Pandasライブラリでデータ処理\n",
    "\n",
    "### 3. NumPyライブラリでデータ処理\n",
    "\n",
    "### 4. Matplotlibライブラリでグラフ描画"
   ]
  },
  {
   "cell_type": "code",
   "execution_count": null,
   "metadata": {},
   "outputs": [],
   "source": []
  }
 ],
 "metadata": {
  "kernelspec": {
   "display_name": "Python 3",
   "language": "python",
   "name": "python3"
  },
  "language_info": {
   "codemirror_mode": {
    "name": "ipython",
    "version": 3
   },
   "file_extension": ".py",
   "mimetype": "text/x-python",
   "name": "python",
   "nbconvert_exporter": "python",
   "pygments_lexer": "ipython3",
   "version": "3.6.3"
  }
 },
 "nbformat": 4,
 "nbformat_minor": 2
}
