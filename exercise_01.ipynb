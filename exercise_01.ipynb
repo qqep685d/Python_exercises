{
 "cells": [
  {
   "cell_type": "markdown",
   "metadata": {},
   "source": [
    "# Python exercises - 入門レベル -\n",
    "\n",
    "## 入門レベル\n",
    "\n",
    "- プログラミングを初めて勉強する \n",
    "- 画面に文章を表示させるプログラムを書ける\n",
    "- 四則計算をおこなうプログラムを書ける\n",
    "- **変数**を使ったプログラムを書ける\n",
    "- `for`や`if`文を使ったプログラムを書ける\n",
    "\n",
    "## 内容\n",
    "\n",
    "1. はじめに / Introduction\n",
    "1. "
   ]
  },
  {
   "cell_type": "code",
   "execution_count": null,
   "metadata": {},
   "outputs": [],
   "source": []
  },
  {
   "cell_type": "code",
   "execution_count": null,
   "metadata": {},
   "outputs": [],
   "source": []
  }
 ],
 "metadata": {
  "kernelspec": {
   "display_name": "Python 3",
   "language": "python",
   "name": "python3"
  },
  "language_info": {
   "codemirror_mode": {
    "name": "ipython",
    "version": 3
   },
   "file_extension": ".py",
   "mimetype": "text/x-python",
   "name": "python",
   "nbconvert_exporter": "python",
   "pygments_lexer": "ipython3",
   "version": "3.6.3"
  }
 },
 "nbformat": 4,
 "nbformat_minor": 2
}
